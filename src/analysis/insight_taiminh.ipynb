{
 "cells": [
  {
   "cell_type": "code",
   "execution_count": 1,
   "metadata": {},
   "outputs": [],
   "source": [
    "import pandas as pd\n",
    "import numpy as np\n",
    "from sklearn.preprocessing import LabelEncoder\n",
    "import matplotlib.pyplot as plt\n",
    "%matplotlib inline\n",
    "from mpl_toolkits.mplot3d import Axes3D"
   ]
  },
  {
   "cell_type": "code",
   "execution_count": 2,
   "metadata": {},
   "outputs": [
    {
     "data": {
      "text/html": [
       "<div>\n",
       "<style scoped>\n",
       "    .dataframe tbody tr th:only-of-type {\n",
       "        vertical-align: middle;\n",
       "    }\n",
       "\n",
       "    .dataframe tbody tr th {\n",
       "        vertical-align: top;\n",
       "    }\n",
       "\n",
       "    .dataframe thead th {\n",
       "        text-align: right;\n",
       "    }\n",
       "</style>\n",
       "<table border=\"1\" class=\"dataframe\">\n",
       "  <thead>\n",
       "    <tr style=\"text-align: right;\">\n",
       "      <th></th>\n",
       "      <th>Reference Number</th>\n",
       "      <th>Grid Ref: Easting</th>\n",
       "      <th>Grid Ref: Northing</th>\n",
       "      <th>Number of Vehicles</th>\n",
       "      <th>Accident Date</th>\n",
       "      <th>Time (24hr)</th>\n",
       "      <th>1st Road Class</th>\n",
       "      <th>1st Road Class &amp; No</th>\n",
       "      <th>Road Surface</th>\n",
       "      <th>Lighting Conditions</th>\n",
       "      <th>Weather Conditions</th>\n",
       "      <th>Local Authority</th>\n",
       "      <th>Type of Vehicle</th>\n",
       "      <th>Casualty Class</th>\n",
       "      <th>Casualty Severity</th>\n",
       "      <th>Sex of Casualty</th>\n",
       "      <th>Age of Casualty</th>\n",
       "    </tr>\n",
       "  </thead>\n",
       "  <tbody>\n",
       "    <tr>\n",
       "      <th>0</th>\n",
       "      <td>5110577</td>\n",
       "      <td>430660</td>\n",
       "      <td>430766</td>\n",
       "      <td>1</td>\n",
       "      <td>2018-01-01</td>\n",
       "      <td>03:44:00</td>\n",
       "      <td>Unclassified</td>\n",
       "      <td>U</td>\n",
       "      <td>Wet / Damp</td>\n",
       "      <td>Darkness: street lights present and lit</td>\n",
       "      <td>Fine without high winds</td>\n",
       "      <td>E08000035</td>\n",
       "      <td>Car</td>\n",
       "      <td>Vehicle or pillion passenger</td>\n",
       "      <td>Slight</td>\n",
       "      <td>Male</td>\n",
       "      <td>23</td>\n",
       "    </tr>\n",
       "    <tr>\n",
       "      <th>1</th>\n",
       "      <td>5110577</td>\n",
       "      <td>430660</td>\n",
       "      <td>430766</td>\n",
       "      <td>1</td>\n",
       "      <td>2018-01-01</td>\n",
       "      <td>03:44:00</td>\n",
       "      <td>Unclassified</td>\n",
       "      <td>U</td>\n",
       "      <td>Wet / Damp</td>\n",
       "      <td>Darkness: street lights present and lit</td>\n",
       "      <td>Fine without high winds</td>\n",
       "      <td>E08000035</td>\n",
       "      <td>Car</td>\n",
       "      <td>Driver or rider</td>\n",
       "      <td>Slight</td>\n",
       "      <td>Male</td>\n",
       "      <td>23</td>\n",
       "    </tr>\n",
       "    <tr>\n",
       "      <th>2</th>\n",
       "      <td>5110577</td>\n",
       "      <td>430660</td>\n",
       "      <td>430766</td>\n",
       "      <td>1</td>\n",
       "      <td>2018-01-01</td>\n",
       "      <td>03:44:00</td>\n",
       "      <td>Unclassified</td>\n",
       "      <td>U</td>\n",
       "      <td>Wet / Damp</td>\n",
       "      <td>Darkness: street lights present and lit</td>\n",
       "      <td>Fine without high winds</td>\n",
       "      <td>E08000035</td>\n",
       "      <td>Car</td>\n",
       "      <td>Vehicle or pillion passenger</td>\n",
       "      <td>Serious</td>\n",
       "      <td>Male</td>\n",
       "      <td>33</td>\n",
       "    </tr>\n",
       "    <tr>\n",
       "      <th>3</th>\n",
       "      <td>5111304</td>\n",
       "      <td>431442</td>\n",
       "      <td>432717</td>\n",
       "      <td>2</td>\n",
       "      <td>2018-01-01</td>\n",
       "      <td>13:35:00</td>\n",
       "      <td>A</td>\n",
       "      <td>A63</td>\n",
       "      <td>Dry</td>\n",
       "      <td>Daylight: street lights present</td>\n",
       "      <td>Fine without high winds</td>\n",
       "      <td>E08000035</td>\n",
       "      <td>Car</td>\n",
       "      <td>Driver or rider</td>\n",
       "      <td>Slight</td>\n",
       "      <td>Female</td>\n",
       "      <td>57</td>\n",
       "    </tr>\n",
       "    <tr>\n",
       "      <th>4</th>\n",
       "      <td>5111365</td>\n",
       "      <td>429509</td>\n",
       "      <td>431308</td>\n",
       "      <td>2</td>\n",
       "      <td>2018-01-01</td>\n",
       "      <td>14:21:00</td>\n",
       "      <td>Unclassified</td>\n",
       "      <td>U</td>\n",
       "      <td>Wet / Damp</td>\n",
       "      <td>Daylight: street lights present</td>\n",
       "      <td>Raining without high winds</td>\n",
       "      <td>E08000035</td>\n",
       "      <td>Car</td>\n",
       "      <td>Vehicle or pillion passenger</td>\n",
       "      <td>Slight</td>\n",
       "      <td>Male</td>\n",
       "      <td>18</td>\n",
       "    </tr>\n",
       "    <tr>\n",
       "      <th>...</th>\n",
       "      <td>...</td>\n",
       "      <td>...</td>\n",
       "      <td>...</td>\n",
       "      <td>...</td>\n",
       "      <td>...</td>\n",
       "      <td>...</td>\n",
       "      <td>...</td>\n",
       "      <td>...</td>\n",
       "      <td>...</td>\n",
       "      <td>...</td>\n",
       "      <td>...</td>\n",
       "      <td>...</td>\n",
       "      <td>...</td>\n",
       "      <td>...</td>\n",
       "      <td>...</td>\n",
       "      <td>...</td>\n",
       "      <td>...</td>\n",
       "    </tr>\n",
       "    <tr>\n",
       "      <th>3895</th>\n",
       "      <td>6CU0181</td>\n",
       "      <td>442094</td>\n",
       "      <td>434619</td>\n",
       "      <td>1</td>\n",
       "      <td>2019-12-30</td>\n",
       "      <td>04:22:00</td>\n",
       "      <td>Motorway</td>\n",
       "      <td>M1</td>\n",
       "      <td>Wet / Damp</td>\n",
       "      <td>Darkness: street lights present and lit</td>\n",
       "      <td>Fine with high winds</td>\n",
       "      <td>E08000035</td>\n",
       "      <td>Car</td>\n",
       "      <td>Driver or rider</td>\n",
       "      <td>Slight</td>\n",
       "      <td>Male</td>\n",
       "      <td>27</td>\n",
       "    </tr>\n",
       "    <tr>\n",
       "      <th>3896</th>\n",
       "      <td>6CU0363</td>\n",
       "      <td>423019</td>\n",
       "      <td>437653</td>\n",
       "      <td>1</td>\n",
       "      <td>2019-12-30</td>\n",
       "      <td>10:00:00</td>\n",
       "      <td>A</td>\n",
       "      <td>A65</td>\n",
       "      <td>Frost / Ice</td>\n",
       "      <td>Daylight: street lights present</td>\n",
       "      <td>Fine without high winds</td>\n",
       "      <td>E08000035</td>\n",
       "      <td>Motorcycle over 500cc</td>\n",
       "      <td>Driver or rider</td>\n",
       "      <td>Serious</td>\n",
       "      <td>Male</td>\n",
       "      <td>36</td>\n",
       "    </tr>\n",
       "    <tr>\n",
       "      <th>3897</th>\n",
       "      <td>6CV1518</td>\n",
       "      <td>421466</td>\n",
       "      <td>433999</td>\n",
       "      <td>3</td>\n",
       "      <td>2019-12-31</td>\n",
       "      <td>16:40:00</td>\n",
       "      <td>A</td>\n",
       "      <td>A647</td>\n",
       "      <td>Dry</td>\n",
       "      <td>Darkness: street lights present and lit</td>\n",
       "      <td>Fine without high winds</td>\n",
       "      <td>E08000035</td>\n",
       "      <td>Car</td>\n",
       "      <td>Driver or rider</td>\n",
       "      <td>Slight</td>\n",
       "      <td>Male</td>\n",
       "      <td>41</td>\n",
       "    </tr>\n",
       "    <tr>\n",
       "      <th>3898</th>\n",
       "      <td>6CV0723</td>\n",
       "      <td>436853</td>\n",
       "      <td>442515</td>\n",
       "      <td>2</td>\n",
       "      <td>2019-12-31</td>\n",
       "      <td>13:40:00</td>\n",
       "      <td>A</td>\n",
       "      <td>A58</td>\n",
       "      <td>Dry</td>\n",
       "      <td>Daylight: street lights present</td>\n",
       "      <td>Fine without high winds</td>\n",
       "      <td>E08000035</td>\n",
       "      <td>Pedal cycle</td>\n",
       "      <td>Driver or rider</td>\n",
       "      <td>Serious</td>\n",
       "      <td>Male</td>\n",
       "      <td>59</td>\n",
       "    </tr>\n",
       "    <tr>\n",
       "      <th>3899</th>\n",
       "      <td>6CV1518</td>\n",
       "      <td>421466</td>\n",
       "      <td>433999</td>\n",
       "      <td>3</td>\n",
       "      <td>2019-12-31</td>\n",
       "      <td>16:40:00</td>\n",
       "      <td>A</td>\n",
       "      <td>A647</td>\n",
       "      <td>Dry</td>\n",
       "      <td>Darkness: street lights present and lit</td>\n",
       "      <td>Fine without high winds</td>\n",
       "      <td>E08000035</td>\n",
       "      <td>Car</td>\n",
       "      <td>Vehicle or pillion passenger</td>\n",
       "      <td>Slight</td>\n",
       "      <td>Male</td>\n",
       "      <td>26</td>\n",
       "    </tr>\n",
       "  </tbody>\n",
       "</table>\n",
       "<p>3900 rows × 17 columns</p>\n",
       "</div>"
      ],
      "text/plain": [
       "     Reference Number  Grid Ref: Easting  Grid Ref: Northing  \\\n",
       "0             5110577             430660              430766   \n",
       "1             5110577             430660              430766   \n",
       "2             5110577             430660              430766   \n",
       "3             5111304             431442              432717   \n",
       "4             5111365             429509              431308   \n",
       "...               ...                ...                 ...   \n",
       "3895          6CU0181             442094              434619   \n",
       "3896          6CU0363             423019              437653   \n",
       "3897          6CV1518             421466              433999   \n",
       "3898          6CV0723             436853              442515   \n",
       "3899          6CV1518             421466              433999   \n",
       "\n",
       "      Number of Vehicles Accident Date Time (24hr) 1st Road Class  \\\n",
       "0                      1    2018-01-01    03:44:00   Unclassified   \n",
       "1                      1    2018-01-01    03:44:00   Unclassified   \n",
       "2                      1    2018-01-01    03:44:00   Unclassified   \n",
       "3                      2    2018-01-01    13:35:00              A   \n",
       "4                      2    2018-01-01    14:21:00   Unclassified   \n",
       "...                  ...           ...         ...            ...   \n",
       "3895                   1    2019-12-30    04:22:00       Motorway   \n",
       "3896                   1    2019-12-30    10:00:00              A   \n",
       "3897                   3    2019-12-31    16:40:00              A   \n",
       "3898                   2    2019-12-31    13:40:00              A   \n",
       "3899                   3    2019-12-31    16:40:00              A   \n",
       "\n",
       "     1st Road Class & No Road Surface  \\\n",
       "0                      U   Wet / Damp   \n",
       "1                      U   Wet / Damp   \n",
       "2                      U   Wet / Damp   \n",
       "3                    A63          Dry   \n",
       "4                      U   Wet / Damp   \n",
       "...                  ...          ...   \n",
       "3895                  M1   Wet / Damp   \n",
       "3896                 A65  Frost / Ice   \n",
       "3897                A647          Dry   \n",
       "3898                 A58          Dry   \n",
       "3899                A647          Dry   \n",
       "\n",
       "                          Lighting Conditions          Weather Conditions  \\\n",
       "0     Darkness: street lights present and lit     Fine without high winds   \n",
       "1     Darkness: street lights present and lit     Fine without high winds   \n",
       "2     Darkness: street lights present and lit     Fine without high winds   \n",
       "3             Daylight: street lights present     Fine without high winds   \n",
       "4             Daylight: street lights present  Raining without high winds   \n",
       "...                                       ...                         ...   \n",
       "3895  Darkness: street lights present and lit        Fine with high winds   \n",
       "3896          Daylight: street lights present     Fine without high winds   \n",
       "3897  Darkness: street lights present and lit     Fine without high winds   \n",
       "3898          Daylight: street lights present     Fine without high winds   \n",
       "3899  Darkness: street lights present and lit     Fine without high winds   \n",
       "\n",
       "     Local Authority        Type of Vehicle                Casualty Class  \\\n",
       "0          E08000035                    Car  Vehicle or pillion passenger   \n",
       "1          E08000035                    Car               Driver or rider   \n",
       "2          E08000035                    Car  Vehicle or pillion passenger   \n",
       "3          E08000035                    Car               Driver or rider   \n",
       "4          E08000035                    Car  Vehicle or pillion passenger   \n",
       "...              ...                    ...                           ...   \n",
       "3895       E08000035                    Car               Driver or rider   \n",
       "3896       E08000035  Motorcycle over 500cc               Driver or rider   \n",
       "3897       E08000035                    Car               Driver or rider   \n",
       "3898       E08000035            Pedal cycle               Driver or rider   \n",
       "3899       E08000035                    Car  Vehicle or pillion passenger   \n",
       "\n",
       "     Casualty Severity Sex of Casualty  Age of Casualty  \n",
       "0               Slight            Male               23  \n",
       "1               Slight            Male               23  \n",
       "2              Serious            Male               33  \n",
       "3               Slight          Female               57  \n",
       "4               Slight            Male               18  \n",
       "...                ...             ...              ...  \n",
       "3895            Slight            Male               27  \n",
       "3896           Serious            Male               36  \n",
       "3897            Slight            Male               41  \n",
       "3898           Serious            Male               59  \n",
       "3899            Slight            Male               26  \n",
       "\n",
       "[3900 rows x 17 columns]"
      ]
     },
     "execution_count": 2,
     "metadata": {},
     "output_type": "execute_result"
    }
   ],
   "source": [
    "df = pd.read_csv('C://Users/Gateway/Desktop/afterPreprocess.csv')\n",
    "df"
   ]
  },
  {
   "cell_type": "code",
   "execution_count": 3,
   "metadata": {
    "scrolled": true
   },
   "outputs": [
    {
     "data": {
      "text/plain": [
       "27    116\n",
       "23     96\n",
       "20     96\n",
       "22     95\n",
       "30     95\n",
       "     ... \n",
       "90      3\n",
       "91      3\n",
       "95      3\n",
       "92      2\n",
       "93      1\n",
       "Name: Age of Casualty, Length: 94, dtype: int64"
      ]
     },
     "execution_count": 3,
     "metadata": {},
     "output_type": "execute_result"
    }
   ],
   "source": [
    "df['Age of Casualty'].value_counts()"
   ]
  },
  {
   "cell_type": "code",
   "execution_count": 4,
   "metadata": {},
   "outputs": [
    {
     "data": {
      "text/plain": [
       "Fine without high winds       3390\n",
       "Raining without high winds     381\n",
       "Raining with high winds         45\n",
       "Fine with high winds            35\n",
       "Other                           20\n",
       "Snowing without high winds      19\n",
       "Snowing with high winds          5\n",
       "Fog or mist ñ if hazard          5\n",
       "Name: Weather Conditions, dtype: int64"
      ]
     },
     "execution_count": 4,
     "metadata": {},
     "output_type": "execute_result"
    }
   ],
   "source": [
    "df['Weather Conditions'].value_counts()"
   ]
  },
  {
   "cell_type": "code",
   "execution_count": 5,
   "metadata": {},
   "outputs": [
    {
     "data": {
      "text/plain": [
       "69T0667    13\n",
       "6360200     9\n",
       "58K1318     9\n",
       "66Q0229     7\n",
       "55U1806     7\n",
       "           ..\n",
       "5421438     1\n",
       "58D0398     1\n",
       "66N0779     1\n",
       "64U1255     1\n",
       "5651310     1\n",
       "Name: Reference Number, Length: 2996, dtype: int64"
      ]
     },
     "execution_count": 5,
     "metadata": {},
     "output_type": "execute_result"
    }
   ],
   "source": [
    "df['Reference Number'].value_counts()"
   ]
  },
  {
   "cell_type": "code",
   "execution_count": 6,
   "metadata": {},
   "outputs": [
    {
     "data": {
      "text/plain": [
       "Text(0.5, 0, 'Age of Casualty')"
      ]
     },
     "execution_count": 6,
     "metadata": {},
     "output_type": "execute_result"
    },
    {
     "data": {
      "image/png": "[encoded data removed]",
      "text/plain": [
       "<Figure size 504x504 with 1 Axes>"
      ]
     },
     "metadata": {
      "needs_background": "light"
     },
     "output_type": "display_data"
    }
   ],
   "source": [
    "fig = plt.figure(figsize=(7,7))\n",
    "df['Age of Casualty'].value_counts().plot.bar()\n",
    "plt.xlabel('Age of Casualty')"
   ]
  },
  {
   "cell_type": "code",
   "execution_count": 7,
   "metadata": {},
   "outputs": [
    {
     "data": {
      "text/plain": [
       "Text(0.5, 0, 'Weather Conditions')"
      ]
     },
     "execution_count": 7,
     "metadata": {},
     "output_type": "execute_result"
    },
    {
     "data": {
      "image/png": "[encoded data removed]",
      "text/plain": [
       "<Figure size 504x504 with 1 Axes>"
      ]
     },
     "metadata": {
      "needs_background": "light"
     },
     "output_type": "display_data"
    }
   ],
   "source": [
    "fig = plt.figure(figsize=(7,7))\n",
    "df['Weather Conditions'].value_counts().plot.bar()\n",
    "plt.xlabel('Weather Conditions')"
   ]
  },
  {
   "cell_type": "code",
   "execution_count": 18,
   "metadata": {},
   "outputs": [
    {
     "data": {
      "image/png": "[encoded data removed]",
      "text/plain": [
       "<Figure size 1440x288 with 1 Axes>"
      ]
     },
     "metadata": {
      "needs_background": "light"
     },
     "output_type": "display_data"
    }
   ],
   "source": [
    "fig, (ax) = plt.subplots(1,1, figsize = (20,4))\n",
    "\n",
    "ax.scatter(df['Weather Conditions'], df['Age of Casualty'], color='purple', marker='o')\n",
    "ax.set( xlabel = 'Weather Conditions', ylabel = 'Age of Casualty')\n",
    "plt.show()"
   ]
  }
 ],
 "metadata": {
  "kernelspec": {
   "display_name": "Python 3",
   "language": "python",
   "name": "python3"
  },
  "language_info": {
   "codemirror_mode": {
    "name": "ipython",
    "version": 3
   },
   "file_extension": ".py",
   "mimetype": "text/x-python",
   "name": "python",
   "nbconvert_exporter": "python",
   "pygments_lexer": "ipython3",
   "version": "3.8.5"
  }
 },
 "nbformat": 4,
 "nbformat_minor": 4
}
