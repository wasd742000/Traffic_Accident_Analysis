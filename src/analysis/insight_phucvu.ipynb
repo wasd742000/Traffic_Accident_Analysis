{
  "nbformat": 4,
  "nbformat_minor": 0,
  "metadata": {
    "colab": {
      "name": "phucvu_ínsight.ipynb",
      "provenance": [],
      "collapsed_sections": []
    },
    "kernelspec": {
      "name": "python3",
      "display_name": "Python 3"
    },
    "language_info": {
      "name": "python"
    }
  },
  "cells": [
    {
      "cell_type": "markdown",
      "metadata": {
        "id": "Fk-ZnxRdSo2U"
      },
      "source": [
        "# INSIGHT\n",
        "\n",
        "1. Số lượng tài xế nam gây tai nạn gấp đôi tài xế nữ.\n",
        "2. Tỷ lệ tử vong hoặc bị thương nặng của tài xế nam lớn hơn rất nhiều lần so với tài xế nữ.\n",
        "  *   Tỷ lệ tử vong: nam (0.82 %), nữ (0.13 %).\n",
        "  *   Tỷ lệ bị thương nặng: nam (19.96 %), nữ (8.6 %).\n",
        "\n",
        "\n",
        "\n",
        "\n",
        "\n",
        "\n",
        "\n",
        "\n"
      ]
    },
    {
      "cell_type": "code",
      "metadata": {
        "colab": {
          "base_uri": "https://localhost:8080/"
        },
        "id": "vZNZfuLEXHEt",
        "outputId": "a1540814-e2b6-4417-c3b4-2c51b21b13de"
      },
      "source": [
        "from google.colab import drive\n",
        "drive.mount(\"/content/gdrive\") "
      ],
      "execution_count": 1,
      "outputs": [
        {
          "output_type": "stream",
          "text": [
            "Mounted at /content/gdrive\n"
          ],
          "name": "stdout"
        }
      ]
    },
    {
      "cell_type": "code",
      "metadata": {
        "id": "RbmKiCwxWp1D"
      },
      "source": [
        "import pandas as pd\n",
        "import numpy as np\n",
        "import matplotlib.pyplot as plt"
      ],
      "execution_count": 2,
      "outputs": []
    },
    {
      "cell_type": "code",
      "metadata": {
        "id": "Sjng-vaUW8p0"
      },
      "source": [
        "df = pd.read_csv(\"/content/gdrive/MyDrive/accident/afterPreprocess.csv\")"
      ],
      "execution_count": 3,
      "outputs": []
    },
    {
      "cell_type": "code",
      "metadata": {
        "id": "pZyubuxVW-3R"
      },
      "source": [
        "# Lay data tai xe nam/nu\n",
        "female_Drivers = df[(df['Casualty Class'] == 'Driver or rider') & (df['Sex of Casualty'] == 'Female')]\n",
        "male_Drivers = df[(df['Casualty Class'] == 'Driver or rider') & (df['Sex of Casualty'] == 'Male')]"
      ],
      "execution_count": 4,
      "outputs": []
    },
    {
      "cell_type": "markdown",
      "metadata": {
        "id": "YjPguDghZN9z"
      },
      "source": [
        "# 1) Số lượng tài xế nam gây tai nạn gấp đôi tài xế nữ."
      ]
    },
    {
      "cell_type": "code",
      "metadata": {
        "colab": {
          "base_uri": "https://localhost:8080/",
          "height": 282
        },
        "id": "HPIgaPVtXCug",
        "outputId": "e15df2e1-6dbc-4b58-b983-2d947cbfec62"
      },
      "source": [
        "print('Number of male drivers that cause accidents = ', len(male_Drivers))\n",
        "print('Number of female drivers that cause accidents = ', len(female_Drivers))\n",
        "\n",
        "name = ['Male drivers', 'Female drivers']\n",
        "n_drivers = [len(male_Drivers), len(female_Drivers)]\n",
        "Explode = [0, 0]\n",
        "plt.pie(n_drivers, explode = Explode, labels=name)\n",
        "plt.legend(title=\"Gender\")\n",
        "plt.show()"
      ],
      "execution_count": 5,
      "outputs": [
        {
          "output_type": "stream",
          "text": [
            "Number of male drivers that cause accidents =  1588\n",
            "Number of female drivers that cause accidents =  767\n"
          ],
          "name": "stdout"
        },
        {
          "output_type": "display_data",
          "data": {
            "image/png": "[encoded data removed]",
            "text/plain": [
              "<Figure size 432x288 with 1 Axes>"
            ]
          },
          "metadata": {
            "tags": []
          }
        }
      ]
    },
    {
      "cell_type": "markdown",
      "metadata": {
        "id": "8I1YP4ncZUPY"
      },
      "source": [
        "# 2) Tỷ lệ tử vong hoặc bị thương nặng của tài xế nam lớn hơn rất nhiều lần so với tài xế nữ."
      ]
    },
    {
      "cell_type": "code",
      "metadata": {
        "colab": {
          "base_uri": "https://localhost:8080/",
          "height": 397
        },
        "id": "DJmEsFspXcT8",
        "outputId": "fa254ebb-b2f1-46d9-cb21-980769e21115"
      },
      "source": [
        "\n",
        "clm_name = [\"Fatal\", \"Serious\", \"Slight\"]\n",
        "\n",
        "# So luong thương vong cua nam\n",
        "m_fatal = len(male_Drivers[male_Drivers['Casualty Severity'] == 'Fatal'])\n",
        "m_serious = len(male_Drivers[male_Drivers['Casualty Severity'] == 'Serious'])\n",
        "m_slight = len(male_Drivers[male_Drivers['Casualty Severity'] == 'Slight'])\n",
        "\n",
        "# So luong thuong vong cua nu\n",
        "fm_fatal = len(female_Drivers[female_Drivers['Casualty Severity'] == 'Fatal'])\n",
        "fm_serious = len(female_Drivers[female_Drivers['Casualty Severity'] == 'Serious'])\n",
        "fm_slight = len(female_Drivers[female_Drivers['Casualty Severity'] == 'Slight'])\n",
        "\n",
        "male_severity_data = [m_fatal, m_serious, m_slight]\n",
        "female_severity_data = [fm_fatal, fm_serious, fm_slight]\n",
        "\n",
        "# Ty le thuong vong theo gioi tinh\n",
        "print('Fatal  rate of male drivers(%) = ', round(male_severity_data[0]*100 / sum(male_severity_data), 2))\n",
        "print('Fatal rate of female drivers(%) = ', round(female_severity_data[0]*100 / sum(female_severity_data), 2))\n",
        "print('Serious rate of male drivers(%) = ', round(male_severity_data[1]*100 / sum(male_severity_data), 2))\n",
        "print('Serious rate of female drivers(%) = ', round(female_severity_data[1]*100 / sum(female_severity_data), 2))\n",
        "print('Slight rate of male drivers(%) = ', round(male_severity_data[2]*100 / sum(male_severity_data), 2))\n",
        "print('Slight rate of female drivers(%) = ', round(female_severity_data[2]*100 / sum(female_severity_data), 2))\n",
        "\n",
        "\n",
        "index = np.arange(3)\n",
        "width = 0.3\n",
        "\n",
        "plt.bar(index, male_severity_data, width, color='blue',label='Male drivers')\n",
        "plt.bar(index+width, female_severity_data, width, color='red',label='Female drivers')\n",
        "plt.title('Comparison severity level of female and male drivers')\n",
        "\n",
        "plt.ylabel('Number of casualties')\n",
        "plt.xlabel('Severity level')\n",
        "plt.xticks(index+ width/2, clm_name)\n",
        "\n",
        "plt.legend(loc='best')\n",
        "plt.show()"
      ],
      "execution_count": 6,
      "outputs": [
        {
          "output_type": "stream",
          "text": [
            "Fatal  rate of male drivers(%) =  0.82\n",
            "Fatal rate of female drivers(%) =  0.13\n",
            "Serious rate of male drivers(%) =  19.96\n",
            "Serious rate of female drivers(%) =  8.6\n",
            "Slight rate of male drivers(%) =  79.22\n",
            "Slight rate of female drivers(%) =  91.26\n"
          ],
          "name": "stdout"
        },
        {
          "output_type": "display_data",
          "data": {
            "image/png": "[encoded data removed]",
            "text/plain": [
              "<Figure size 432x288 with 1 Axes>"
            ]
          },
          "metadata": {
            "tags": [],
            "needs_background": "light"
          }
        }
      ]
    }
  ]
}