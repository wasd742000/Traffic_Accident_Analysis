{
  "nbformat": 4,
  "nbformat_minor": 0,
  "metadata": {
    "colab": {
      "name": "traffic.ipynb",
      "provenance": [],
      "collapsed_sections": []
    },
    "kernelspec": {
      "name": "python3",
      "display_name": "Python 3"
    },
    "language_info": {
      "name": "python"
    }
  },
  "cells": [
    {
      "cell_type": "code",
      "metadata": {
        "id": "RqIXuMCFCHA3",
        "colab": {
          "base_uri": "https://localhost:8080/"
        },
        "outputId": "6ff421c4-c845-4032-a974-19ecdcac8063"
      },
      "source": [
        "import numpy as np\n",
        "import random\n",
        "import pandas as pd\n",
        "import matplotlib.pyplot as plt\n",
        "import seaborn as sns\n",
        "\n",
        "!pip install apyori\n",
        "from apyori import apriori"
      ],
      "execution_count": 57,
      "outputs": [
        {
          "output_type": "stream",
          "text": [
            "Requirement already satisfied: apyori in /usr/local/lib/python3.7/dist-packages (1.1.2)\n"
          ],
          "name": "stdout"
        }
      ]
    },
    {
      "cell_type": "code",
      "metadata": {
        "colab": {
          "base_uri": "https://localhost:8080/",
          "height": 496
        },
        "id": "z1IycVigDTA6",
        "outputId": "a2130b67-2865-4e37-99dc-40cba0d817e0"
      },
      "source": [
        "df = pd.read_csv('afterPreprocess.csv')\n",
        "df.head()"
      ],
      "execution_count": 58,
      "outputs": [
        {
          "output_type": "execute_result",
          "data": {
            "text/html": [
              "<div>\n",
              "<style scoped>\n",
              "    .dataframe tbody tr th:only-of-type {\n",
              "        vertical-align: middle;\n",
              "    }\n",
              "\n",
              "    .dataframe tbody tr th {\n",
              "        vertical-align: top;\n",
              "    }\n",
              "\n",
              "    .dataframe thead th {\n",
              "        text-align: right;\n",
              "    }\n",
              "</style>\n",
              "<table border=\"1\" class=\"dataframe\">\n",
              "  <thead>\n",
              "    <tr style=\"text-align: right;\">\n",
              "      <th></th>\n",
              "      <th>Reference Number</th>\n",
              "      <th>Grid Ref: Easting</th>\n",
              "      <th>Grid Ref: Northing</th>\n",
              "      <th>Number of Vehicles</th>\n",
              "      <th>Accident Date</th>\n",
              "      <th>Time (24hr)</th>\n",
              "      <th>1st Road Class</th>\n",
              "      <th>1st Road Class &amp; No</th>\n",
              "      <th>Road Surface</th>\n",
              "      <th>Lighting Conditions</th>\n",
              "      <th>Weather Conditions</th>\n",
              "      <th>Local Authority</th>\n",
              "      <th>Type of Vehicle</th>\n",
              "      <th>Casualty Class</th>\n",
              "      <th>Casualty Severity</th>\n",
              "      <th>Sex of Casualty</th>\n",
              "      <th>Age of Casualty</th>\n",
              "    </tr>\n",
              "  </thead>\n",
              "  <tbody>\n",
              "    <tr>\n",
              "      <th>0</th>\n",
              "      <td>5110577</td>\n",
              "      <td>430660</td>\n",
              "      <td>430766</td>\n",
              "      <td>1</td>\n",
              "      <td>2018-01-01</td>\n",
              "      <td>03:44:00</td>\n",
              "      <td>Unclassified</td>\n",
              "      <td>U</td>\n",
              "      <td>Wet / Damp</td>\n",
              "      <td>Darkness: street lights present and lit</td>\n",
              "      <td>Fine without high winds</td>\n",
              "      <td>E08000035</td>\n",
              "      <td>Car</td>\n",
              "      <td>Vehicle or pillion passenger</td>\n",
              "      <td>Slight</td>\n",
              "      <td>Male</td>\n",
              "      <td>23</td>\n",
              "    </tr>\n",
              "    <tr>\n",
              "      <th>1</th>\n",
              "      <td>5110577</td>\n",
              "      <td>430660</td>\n",
              "      <td>430766</td>\n",
              "      <td>1</td>\n",
              "      <td>2018-01-01</td>\n",
              "      <td>03:44:00</td>\n",
              "      <td>Unclassified</td>\n",
              "      <td>U</td>\n",
              "      <td>Wet / Damp</td>\n",
              "      <td>Darkness: street lights present and lit</td>\n",
              "      <td>Fine without high winds</td>\n",
              "      <td>E08000035</td>\n",
              "      <td>Car</td>\n",
              "      <td>Driver or rider</td>\n",
              "      <td>Slight</td>\n",
              "      <td>Male</td>\n",
              "      <td>23</td>\n",
              "    </tr>\n",
              "    <tr>\n",
              "      <th>2</th>\n",
              "      <td>5110577</td>\n",
              "      <td>430660</td>\n",
              "      <td>430766</td>\n",
              "      <td>1</td>\n",
              "      <td>2018-01-01</td>\n",
              "      <td>03:44:00</td>\n",
              "      <td>Unclassified</td>\n",
              "      <td>U</td>\n",
              "      <td>Wet / Damp</td>\n",
              "      <td>Darkness: street lights present and lit</td>\n",
              "      <td>Fine without high winds</td>\n",
              "      <td>E08000035</td>\n",
              "      <td>Car</td>\n",
              "      <td>Vehicle or pillion passenger</td>\n",
              "      <td>Serious</td>\n",
              "      <td>Male</td>\n",
              "      <td>33</td>\n",
              "    </tr>\n",
              "    <tr>\n",
              "      <th>3</th>\n",
              "      <td>5111304</td>\n",
              "      <td>431442</td>\n",
              "      <td>432717</td>\n",
              "      <td>2</td>\n",
              "      <td>2018-01-01</td>\n",
              "      <td>13:35:00</td>\n",
              "      <td>A</td>\n",
              "      <td>A63</td>\n",
              "      <td>Dry</td>\n",
              "      <td>Daylight: street lights present</td>\n",
              "      <td>Fine without high winds</td>\n",
              "      <td>E08000035</td>\n",
              "      <td>Car</td>\n",
              "      <td>Driver or rider</td>\n",
              "      <td>Slight</td>\n",
              "      <td>Female</td>\n",
              "      <td>57</td>\n",
              "    </tr>\n",
              "    <tr>\n",
              "      <th>4</th>\n",
              "      <td>5111365</td>\n",
              "      <td>429509</td>\n",
              "      <td>431308</td>\n",
              "      <td>2</td>\n",
              "      <td>2018-01-01</td>\n",
              "      <td>14:21:00</td>\n",
              "      <td>Unclassified</td>\n",
              "      <td>U</td>\n",
              "      <td>Wet / Damp</td>\n",
              "      <td>Daylight: street lights present</td>\n",
              "      <td>Raining without high winds</td>\n",
              "      <td>E08000035</td>\n",
              "      <td>Car</td>\n",
              "      <td>Vehicle or pillion passenger</td>\n",
              "      <td>Slight</td>\n",
              "      <td>Male</td>\n",
              "      <td>18</td>\n",
              "    </tr>\n",
              "  </tbody>\n",
              "</table>\n",
              "</div>"
            ],
            "text/plain": [
              "  Reference Number  Grid Ref: Easting  ...  Sex of Casualty  Age of Casualty\n",
              "0          5110577             430660  ...             Male               23\n",
              "1          5110577             430660  ...             Male               23\n",
              "2          5110577             430660  ...             Male               33\n",
              "3          5111304             431442  ...           Female               57\n",
              "4          5111365             429509  ...             Male               18\n",
              "\n",
              "[5 rows x 17 columns]"
            ]
          },
          "metadata": {
            "tags": []
          },
          "execution_count": 58
        }
      ]
    },
    {
      "cell_type": "code",
      "metadata": {
        "id": "UjtTS7FH884X"
      },
      "source": [
        "# hàm bổ trợ\n",
        "def makeXAxis(start, step, end):\n",
        "  x_axis = []\n",
        "  pre = start\n",
        "  while True:\n",
        "    next = pre + step\n",
        "    if next > end:\n",
        "      next = end\n",
        "    x_axis.append((pre, next))\n",
        "    pre += step\n",
        "    if pre >= end:\n",
        "      break\n",
        "  return x_axis\n",
        "\n",
        "def makeYAxis(s, x_axis):\n",
        "  y_axis_values = {}\n",
        "  for i in x_axis:\n",
        "    y_axis_values[i] = []\n",
        "\n",
        "  for i in s:\n",
        "    for j in x_axis:\n",
        "      if j[1] == x_axis[-1][1]:\n",
        "        if i >= j[0] and i <= j[1]:\n",
        "          y_axis_values[j].append(i)\n",
        "      elif i >= j[0] and i < j[1]:\n",
        "        y_axis_values[j].append(i)\n",
        "\n",
        "  y_axis = []\n",
        "  for i in x_axis:\n",
        "    y_axis.append(len(y_axis_values[i]))\n",
        "  return y_axis\n",
        "\n",
        "def draw(x_axis, y_axis, title, x_label, y_label, size, rotation=45, barh=False):\n",
        "  plt.figure(figsize=size)\n",
        "  plt.xticks(rotation = rotation)\n",
        "  if barh:\n",
        "      plt.barh([str(i) for i in x_axis], y_axis)\n",
        "  else:\n",
        "      plt.bar([str(i) for i in x_axis], y_axis)\n",
        "  plt.xlabel(x_label)\n",
        "  plt.ylabel(y_label)\n",
        "  plt.title(title)\n",
        "#   plt.show()"
      ],
      "execution_count": 59,
      "outputs": []
    },
    {
      "cell_type": "markdown",
      "metadata": {
        "id": "Udulxgd3XGcd"
      },
      "source": [
        "# Tìm tập phổ biến bằng thuật toán Apriori"
      ]
    },
    {
      "cell_type": "code",
      "metadata": {
        "colab": {
          "base_uri": "https://localhost:8080/",
          "height": 202
        },
        "id": "rIB64XMetGRE",
        "outputId": "27338451-9a1d-4786-b105-4e7fbfbe0bc6"
      },
      "source": [
        "df.head(1)"
      ],
      "execution_count": 60,
      "outputs": [
        {
          "output_type": "execute_result",
          "data": {
            "text/html": [
              "<div>\n",
              "<style scoped>\n",
              "    .dataframe tbody tr th:only-of-type {\n",
              "        vertical-align: middle;\n",
              "    }\n",
              "\n",
              "    .dataframe tbody tr th {\n",
              "        vertical-align: top;\n",
              "    }\n",
              "\n",
              "    .dataframe thead th {\n",
              "        text-align: right;\n",
              "    }\n",
              "</style>\n",
              "<table border=\"1\" class=\"dataframe\">\n",
              "  <thead>\n",
              "    <tr style=\"text-align: right;\">\n",
              "      <th></th>\n",
              "      <th>Reference Number</th>\n",
              "      <th>Grid Ref: Easting</th>\n",
              "      <th>Grid Ref: Northing</th>\n",
              "      <th>Number of Vehicles</th>\n",
              "      <th>Accident Date</th>\n",
              "      <th>Time (24hr)</th>\n",
              "      <th>1st Road Class</th>\n",
              "      <th>1st Road Class &amp; No</th>\n",
              "      <th>Road Surface</th>\n",
              "      <th>Lighting Conditions</th>\n",
              "      <th>Weather Conditions</th>\n",
              "      <th>Local Authority</th>\n",
              "      <th>Type of Vehicle</th>\n",
              "      <th>Casualty Class</th>\n",
              "      <th>Casualty Severity</th>\n",
              "      <th>Sex of Casualty</th>\n",
              "      <th>Age of Casualty</th>\n",
              "    </tr>\n",
              "  </thead>\n",
              "  <tbody>\n",
              "    <tr>\n",
              "      <th>0</th>\n",
              "      <td>5110577</td>\n",
              "      <td>430660</td>\n",
              "      <td>430766</td>\n",
              "      <td>1</td>\n",
              "      <td>2018-01-01</td>\n",
              "      <td>03:44:00</td>\n",
              "      <td>Unclassified</td>\n",
              "      <td>U</td>\n",
              "      <td>Wet / Damp</td>\n",
              "      <td>Darkness: street lights present and lit</td>\n",
              "      <td>Fine without high winds</td>\n",
              "      <td>E08000035</td>\n",
              "      <td>Car</td>\n",
              "      <td>Vehicle or pillion passenger</td>\n",
              "      <td>Slight</td>\n",
              "      <td>Male</td>\n",
              "      <td>23</td>\n",
              "    </tr>\n",
              "  </tbody>\n",
              "</table>\n",
              "</div>"
            ],
            "text/plain": [
              "  Reference Number  Grid Ref: Easting  ...  Sex of Casualty  Age of Casualty\n",
              "0          5110577             430660  ...             Male               23\n",
              "\n",
              "[1 rows x 17 columns]"
            ]
          },
          "metadata": {
            "tags": []
          },
          "execution_count": 60
        }
      ]
    },
    {
      "cell_type": "code",
      "metadata": {
        "colab": {
          "base_uri": "https://localhost:8080/",
          "height": 306
        },
        "id": "xPmjFCDqXFpL",
        "outputId": "0d211455-b36c-4f53-eb39-d8846d8cc976"
      },
      "source": [
        "# roi rac hoa thoi gian\n",
        "def getTime(x, x_axis):\n",
        "    for i in x_axis:\n",
        "        if x >= i[0] and x < i[1]:\n",
        "            return i\n",
        "\n",
        "# loại bỏ các thuộc tính có nhiều giá trị trùng, thuộc tính về toạ độ, tên đường, ngày, giờ\n",
        "anotherDf = df.drop(['Local Authority', 'Reference Number', 'Grid Ref: Easting', 'Grid Ref: Northing', '1st Road Class & No', 'Accident Date'], axis=1)\n",
        "\n",
        "# rời rạc hoá Age + convert sang str\n",
        "anotherDf['Age of Casualty'] = pd.cut(anotherDf['Age of Casualty'], bins = 5, right=False)\n",
        "anotherDf['Age of Casualty'] = anotherDf['Age of Casualty'].astype(str)\n",
        "\n",
        "# rời rạcc hoáá Timee(24h)\n",
        "anotherDf['Time (24hr)'] = anotherDf['Time (24hr)'].apply(lambda x: x[:2]).astype(int)\n",
        "anotherDf['Time (24hr)'] = anotherDf['Time (24hr)'].apply(getTime, args=(makeXAxis(0,3,23),)).astype(str)\n",
        "\n",
        "anotherDf.head()"
      ],
      "execution_count": 67,
      "outputs": [
        {
          "output_type": "execute_result",
          "data": {
            "text/html": [
              "<div>\n",
              "<style scoped>\n",
              "    .dataframe tbody tr th:only-of-type {\n",
              "        vertical-align: middle;\n",
              "    }\n",
              "\n",
              "    .dataframe tbody tr th {\n",
              "        vertical-align: top;\n",
              "    }\n",
              "\n",
              "    .dataframe thead th {\n",
              "        text-align: right;\n",
              "    }\n",
              "</style>\n",
              "<table border=\"1\" class=\"dataframe\">\n",
              "  <thead>\n",
              "    <tr style=\"text-align: right;\">\n",
              "      <th></th>\n",
              "      <th>Number of Vehicles</th>\n",
              "      <th>Time (24hr)</th>\n",
              "      <th>1st Road Class</th>\n",
              "      <th>Road Surface</th>\n",
              "      <th>Lighting Conditions</th>\n",
              "      <th>Weather Conditions</th>\n",
              "      <th>Type of Vehicle</th>\n",
              "      <th>Casualty Class</th>\n",
              "      <th>Casualty Severity</th>\n",
              "      <th>Sex of Casualty</th>\n",
              "      <th>Age of Casualty</th>\n",
              "    </tr>\n",
              "  </thead>\n",
              "  <tbody>\n",
              "    <tr>\n",
              "      <th>0</th>\n",
              "      <td>1</td>\n",
              "      <td>(3, 6)</td>\n",
              "      <td>Unclassified</td>\n",
              "      <td>Wet / Damp</td>\n",
              "      <td>Darkness: street lights present and lit</td>\n",
              "      <td>Fine without high winds</td>\n",
              "      <td>Car</td>\n",
              "      <td>Vehicle or pillion passenger</td>\n",
              "      <td>Slight</td>\n",
              "      <td>Male</td>\n",
              "      <td>[19.8, 38.6)</td>\n",
              "    </tr>\n",
              "    <tr>\n",
              "      <th>1</th>\n",
              "      <td>1</td>\n",
              "      <td>(3, 6)</td>\n",
              "      <td>Unclassified</td>\n",
              "      <td>Wet / Damp</td>\n",
              "      <td>Darkness: street lights present and lit</td>\n",
              "      <td>Fine without high winds</td>\n",
              "      <td>Car</td>\n",
              "      <td>Driver or rider</td>\n",
              "      <td>Slight</td>\n",
              "      <td>Male</td>\n",
              "      <td>[19.8, 38.6)</td>\n",
              "    </tr>\n",
              "    <tr>\n",
              "      <th>2</th>\n",
              "      <td>1</td>\n",
              "      <td>(3, 6)</td>\n",
              "      <td>Unclassified</td>\n",
              "      <td>Wet / Damp</td>\n",
              "      <td>Darkness: street lights present and lit</td>\n",
              "      <td>Fine without high winds</td>\n",
              "      <td>Car</td>\n",
              "      <td>Vehicle or pillion passenger</td>\n",
              "      <td>Serious</td>\n",
              "      <td>Male</td>\n",
              "      <td>[19.8, 38.6)</td>\n",
              "    </tr>\n",
              "    <tr>\n",
              "      <th>3</th>\n",
              "      <td>2</td>\n",
              "      <td>(12, 15)</td>\n",
              "      <td>A</td>\n",
              "      <td>Dry</td>\n",
              "      <td>Daylight: street lights present</td>\n",
              "      <td>Fine without high winds</td>\n",
              "      <td>Car</td>\n",
              "      <td>Driver or rider</td>\n",
              "      <td>Slight</td>\n",
              "      <td>Female</td>\n",
              "      <td>[38.6, 57.4)</td>\n",
              "    </tr>\n",
              "    <tr>\n",
              "      <th>4</th>\n",
              "      <td>2</td>\n",
              "      <td>(12, 15)</td>\n",
              "      <td>Unclassified</td>\n",
              "      <td>Wet / Damp</td>\n",
              "      <td>Daylight: street lights present</td>\n",
              "      <td>Raining without high winds</td>\n",
              "      <td>Car</td>\n",
              "      <td>Vehicle or pillion passenger</td>\n",
              "      <td>Slight</td>\n",
              "      <td>Male</td>\n",
              "      <td>[1.0, 19.8)</td>\n",
              "    </tr>\n",
              "  </tbody>\n",
              "</table>\n",
              "</div>"
            ],
            "text/plain": [
              "   Number of Vehicles Time (24hr)  ... Sex of Casualty Age of Casualty\n",
              "0                   1      (3, 6)  ...            Male    [19.8, 38.6)\n",
              "1                   1      (3, 6)  ...            Male    [19.8, 38.6)\n",
              "2                   1      (3, 6)  ...            Male    [19.8, 38.6)\n",
              "3                   2    (12, 15)  ...          Female    [38.6, 57.4)\n",
              "4                   2    (12, 15)  ...            Male     [1.0, 19.8)\n",
              "\n",
              "[5 rows x 11 columns]"
            ]
          },
          "metadata": {
            "tags": []
          },
          "execution_count": 67
        }
      ]
    },
    {
      "cell_type": "code",
      "metadata": {
        "id": "9x8GL29L51AX"
      },
      "source": [
        "# hàm bổ trợ\n",
        "# col_values is a dict, col_values[value] = attribute\n",
        "def getColValues(df):\n",
        "    col_values = {}\n",
        "    for col in df.columns:\n",
        "        values = df[col].value_counts().index.astype(str)\n",
        "        for value in values:\n",
        "            col_values[value] = col\n",
        "    return col_values\n",
        "\n",
        "col_values = getColValues(anotherDf)\n",
        "\n",
        "# counts is a dict, contains combination of value in attributes\n",
        "# itemSet is a freqItemSet (output of apriori or something else)\n",
        "def countValues(df, col_values, itemSet):\n",
        "    cols = []\n",
        "    df['tmp'] = ''\n",
        "    for item in itemSet:\n",
        "        colName = col_values[item]\n",
        "        cols.append(colName)\n",
        "        tmp = df[colName].astype(str)\n",
        "        if df['tmp'][0] == '':\n",
        "            df['tmp'] += tmp\n",
        "        else:\n",
        "            df['tmp'] = df['tmp'] + ' & ' + tmp\n",
        "\n",
        "    counts = df['tmp'].value_counts().to_dict()\n",
        "    df.drop(['tmp'], axis=1, inplace=True)\n",
        "    return counts, cols"
      ],
      "execution_count": 68,
      "outputs": []
    },
    {
      "cell_type": "code",
      "metadata": {
        "id": "w_T44vfGY4cX",
        "colab": {
          "base_uri": "https://localhost:8080/",
          "height": 824
        },
        "outputId": "296e92d1-e931-4f93-b58f-29c8715a967a"
      },
      "source": [
        "# from mlxtend.preprocessing import TransactionEncoder\n",
        "# from mlxtend.frequent_patterns import apriori\n",
        "\n",
        "def getTransactions(df):\n",
        "    transactions = []\n",
        "    for i in range(0, df.shape[0]):\n",
        "        tmp = []\n",
        "        try:\n",
        "            tmp = set([str(df.values[i, j]) for j in range(df.shape[1])])\n",
        "            tmp.remove('nan')\n",
        "            tmp = list(tmp)\n",
        "        except:\n",
        "            tmp = [str(df.values[i, j]) for j in range(df.shape[1])]\n",
        "        transactions.append(tmp)\n",
        "\n",
        "    # te = TransactionEncoder()\n",
        "    # te_ary = te.fit(transactions).transform(transactions)\n",
        "    # df_transactions = pd.DataFrame(te_ary, columns=te.columns_)\n",
        "    # return df_transactions\n",
        "    return transactions\n",
        "\n",
        "def getFrequentItemsets(df, minSupp):\n",
        "    transactions = getTransactions(df)\n",
        "    # frequent_itemsets = apriori(transactions, min_support=minSupp, use_colnames=True)\n",
        "    # frequent_itemsets['length'] = frequent_itemsets['itemsets'].apply(lambda x: len(x))\n",
        "\n",
        "    frequent_itemsets = pd.DataFrame(apriori(transactions, min_support = minSupp))\n",
        "    return frequent_itemsets\n",
        "\n",
        "freqItemsets = getFrequentItemsets(anotherDf, 0.5)\n",
        "freqItemsets"
      ],
      "execution_count": 69,
      "outputs": [
        {
          "output_type": "execute_result",
          "data": {
            "text/html": [
              "<div>\n",
              "<style scoped>\n",
              "    .dataframe tbody tr th:only-of-type {\n",
              "        vertical-align: middle;\n",
              "    }\n",
              "\n",
              "    .dataframe tbody tr th {\n",
              "        vertical-align: top;\n",
              "    }\n",
              "\n",
              "    .dataframe thead th {\n",
              "        text-align: right;\n",
              "    }\n",
              "</style>\n",
              "<table border=\"1\" class=\"dataframe\">\n",
              "  <thead>\n",
              "    <tr style=\"text-align: right;\">\n",
              "      <th></th>\n",
              "      <th>items</th>\n",
              "      <th>support</th>\n",
              "      <th>ordered_statistics</th>\n",
              "    </tr>\n",
              "  </thead>\n",
              "  <tbody>\n",
              "    <tr>\n",
              "      <th>0</th>\n",
              "      <td>(2)</td>\n",
              "      <td>0.614872</td>\n",
              "      <td>[((), (2), 0.6148717948717949, 1.0)]</td>\n",
              "    </tr>\n",
              "    <tr>\n",
              "      <th>1</th>\n",
              "      <td>(Car)</td>\n",
              "      <td>0.654615</td>\n",
              "      <td>[((), (Car), 0.6546153846153846, 1.0)]</td>\n",
              "    </tr>\n",
              "    <tr>\n",
              "      <th>2</th>\n",
              "      <td>(Daylight: street lights present)</td>\n",
              "      <td>0.725641</td>\n",
              "      <td>[((), (Daylight: street lights present), 0.725...</td>\n",
              "    </tr>\n",
              "    <tr>\n",
              "      <th>3</th>\n",
              "      <td>(Driver or rider)</td>\n",
              "      <td>0.603846</td>\n",
              "      <td>[((), (Driver or rider), 0.6038461538461538, 1...</td>\n",
              "    </tr>\n",
              "    <tr>\n",
              "      <th>4</th>\n",
              "      <td>(Dry)</td>\n",
              "      <td>0.739744</td>\n",
              "      <td>[((), (Dry), 0.7397435897435898, 1.0)]</td>\n",
              "    </tr>\n",
              "    <tr>\n",
              "      <th>5</th>\n",
              "      <td>(Fine without high winds)</td>\n",
              "      <td>0.869231</td>\n",
              "      <td>[((), (Fine without high winds), 0.86923076923...</td>\n",
              "    </tr>\n",
              "    <tr>\n",
              "      <th>6</th>\n",
              "      <td>(Male)</td>\n",
              "      <td>0.595897</td>\n",
              "      <td>[((), (Male), 0.5958974358974359, 1.0)]</td>\n",
              "    </tr>\n",
              "    <tr>\n",
              "      <th>7</th>\n",
              "      <td>(Slight)</td>\n",
              "      <td>0.822564</td>\n",
              "      <td>[((), (Slight), 0.8225641025641026, 1.0)]</td>\n",
              "    </tr>\n",
              "    <tr>\n",
              "      <th>8</th>\n",
              "      <td>(Unclassified)</td>\n",
              "      <td>0.530256</td>\n",
              "      <td>[((), (Unclassified), 0.5302564102564102, 1.0)]</td>\n",
              "    </tr>\n",
              "    <tr>\n",
              "      <th>9</th>\n",
              "      <td>(2, Fine without high winds)</td>\n",
              "      <td>0.537692</td>\n",
              "      <td>[((), (2, Fine without high winds), 0.53769230...</td>\n",
              "    </tr>\n",
              "    <tr>\n",
              "      <th>10</th>\n",
              "      <td>(Slight, 2)</td>\n",
              "      <td>0.528974</td>\n",
              "      <td>[((), (Slight, 2), 0.528974358974359, 1.0), ((...</td>\n",
              "    </tr>\n",
              "    <tr>\n",
              "      <th>11</th>\n",
              "      <td>(Fine without high winds, Car)</td>\n",
              "      <td>0.556923</td>\n",
              "      <td>[((), (Fine without high winds, Car), 0.556923...</td>\n",
              "    </tr>\n",
              "    <tr>\n",
              "      <th>12</th>\n",
              "      <td>(Slight, Car)</td>\n",
              "      <td>0.563333</td>\n",
              "      <td>[((), (Slight, Car), 0.5633333333333334, 1.0),...</td>\n",
              "    </tr>\n",
              "    <tr>\n",
              "      <th>13</th>\n",
              "      <td>(Daylight: street lights present, Dry)</td>\n",
              "      <td>0.588462</td>\n",
              "      <td>[((), (Daylight: street lights present, Dry), ...</td>\n",
              "    </tr>\n",
              "    <tr>\n",
              "      <th>14</th>\n",
              "      <td>(Fine without high winds, Daylight: street lig...</td>\n",
              "      <td>0.656154</td>\n",
              "      <td>[((), (Fine without high winds, Daylight: stre...</td>\n",
              "    </tr>\n",
              "    <tr>\n",
              "      <th>15</th>\n",
              "      <td>(Slight, Daylight: street lights present)</td>\n",
              "      <td>0.605897</td>\n",
              "      <td>[((), (Slight, Daylight: street lights present...</td>\n",
              "    </tr>\n",
              "    <tr>\n",
              "      <th>16</th>\n",
              "      <td>(Driver or rider, Fine without high winds)</td>\n",
              "      <td>0.526410</td>\n",
              "      <td>[((), (Driver or rider, Fine without high wind...</td>\n",
              "    </tr>\n",
              "    <tr>\n",
              "      <th>17</th>\n",
              "      <td>(Driver or rider, Slight)</td>\n",
              "      <td>0.502051</td>\n",
              "      <td>[((), (Driver or rider, Slight), 0.50205128205...</td>\n",
              "    </tr>\n",
              "    <tr>\n",
              "      <th>18</th>\n",
              "      <td>(Fine without high winds, Dry)</td>\n",
              "      <td>0.732821</td>\n",
              "      <td>[((), (Fine without high winds, Dry), 0.732820...</td>\n",
              "    </tr>\n",
              "    <tr>\n",
              "      <th>19</th>\n",
              "      <td>(Slight, Dry)</td>\n",
              "      <td>0.613333</td>\n",
              "      <td>[((), (Slight, Dry), 0.6133333333333333, 1.0),...</td>\n",
              "    </tr>\n",
              "    <tr>\n",
              "      <th>20</th>\n",
              "      <td>(Male, Fine without high winds)</td>\n",
              "      <td>0.517436</td>\n",
              "      <td>[((), (Male, Fine without high winds), 0.51743...</td>\n",
              "    </tr>\n",
              "    <tr>\n",
              "      <th>21</th>\n",
              "      <td>(Slight, Fine without high winds)</td>\n",
              "      <td>0.715897</td>\n",
              "      <td>[((), (Slight, Fine without high winds), 0.715...</td>\n",
              "    </tr>\n",
              "    <tr>\n",
              "      <th>22</th>\n",
              "      <td>(Fine without high winds, Daylight: street lig...</td>\n",
              "      <td>0.582821</td>\n",
              "      <td>[((), (Fine without high winds, Daylight: stre...</td>\n",
              "    </tr>\n",
              "    <tr>\n",
              "      <th>23</th>\n",
              "      <td>(Slight, Fine without high winds, Daylight: st...</td>\n",
              "      <td>0.546667</td>\n",
              "      <td>[((), (Slight, Fine without high winds, Daylig...</td>\n",
              "    </tr>\n",
              "    <tr>\n",
              "      <th>24</th>\n",
              "      <td>(Slight, Fine without high winds, Dry)</td>\n",
              "      <td>0.607179</td>\n",
              "      <td>[((), (Slight, Fine without high winds, Dry), ...</td>\n",
              "    </tr>\n",
              "  </tbody>\n",
              "</table>\n",
              "</div>"
            ],
            "text/plain": [
              "                                                items  ...                                 ordered_statistics\n",
              "0                                                 (2)  ...               [((), (2), 0.6148717948717949, 1.0)]\n",
              "1                                               (Car)  ...             [((), (Car), 0.6546153846153846, 1.0)]\n",
              "2                   (Daylight: street lights present)  ...  [((), (Daylight: street lights present), 0.725...\n",
              "3                                   (Driver or rider)  ...  [((), (Driver or rider), 0.6038461538461538, 1...\n",
              "4                                               (Dry)  ...             [((), (Dry), 0.7397435897435898, 1.0)]\n",
              "5                           (Fine without high winds)  ...  [((), (Fine without high winds), 0.86923076923...\n",
              "6                                              (Male)  ...            [((), (Male), 0.5958974358974359, 1.0)]\n",
              "7                                            (Slight)  ...          [((), (Slight), 0.8225641025641026, 1.0)]\n",
              "8                                      (Unclassified)  ...    [((), (Unclassified), 0.5302564102564102, 1.0)]\n",
              "9                        (2, Fine without high winds)  ...  [((), (2, Fine without high winds), 0.53769230...\n",
              "10                                        (Slight, 2)  ...  [((), (Slight, 2), 0.528974358974359, 1.0), ((...\n",
              "11                     (Fine without high winds, Car)  ...  [((), (Fine without high winds, Car), 0.556923...\n",
              "12                                      (Slight, Car)  ...  [((), (Slight, Car), 0.5633333333333334, 1.0),...\n",
              "13             (Daylight: street lights present, Dry)  ...  [((), (Daylight: street lights present, Dry), ...\n",
              "14  (Fine without high winds, Daylight: street lig...  ...  [((), (Fine without high winds, Daylight: stre...\n",
              "15          (Slight, Daylight: street lights present)  ...  [((), (Slight, Daylight: street lights present...\n",
              "16         (Driver or rider, Fine without high winds)  ...  [((), (Driver or rider, Fine without high wind...\n",
              "17                          (Driver or rider, Slight)  ...  [((), (Driver or rider, Slight), 0.50205128205...\n",
              "18                     (Fine without high winds, Dry)  ...  [((), (Fine without high winds, Dry), 0.732820...\n",
              "19                                      (Slight, Dry)  ...  [((), (Slight, Dry), 0.6133333333333333, 1.0),...\n",
              "20                    (Male, Fine without high winds)  ...  [((), (Male, Fine without high winds), 0.51743...\n",
              "21                  (Slight, Fine without high winds)  ...  [((), (Slight, Fine without high winds), 0.715...\n",
              "22  (Fine without high winds, Daylight: street lig...  ...  [((), (Fine without high winds, Daylight: stre...\n",
              "23  (Slight, Fine without high winds, Daylight: st...  ...  [((), (Slight, Fine without high winds, Daylig...\n",
              "24             (Slight, Fine without high winds, Dry)  ...  [((), (Slight, Fine without high winds, Dry), ...\n",
              "\n",
              "[25 rows x 3 columns]"
            ]
          },
          "metadata": {
            "tags": []
          },
          "execution_count": 69
        }
      ]
    },
    {
      "cell_type": "markdown",
      "metadata": {
        "id": "hX9vMtdfqzfQ"
      },
      "source": [
        "- Thực hiện phân tích mô tả, ta tiến hành rút trích các đặc trưng từ 25 tập phổ biến trên. Các đặc trưng thường xoay quanh mức độ nặng nhẹ của vụ tai nạn hoặc mức độ phổ biến của đặc trưng\n",
        "    1. Itemset 1, 2, 4 và 5: Các vụ tai nạn thường:\n",
        "        - Do ô tô gây ra (supp=0.65)\n",
        "        - Điều kiện ánh sáng: Buổi sáng, có đèn đường (supp=0.73)\n",
        "        - Tình trạng thời tiết thường là ổn định, không có gió to (supp=0.87)\n",
        "        - Tình trạng mặt đường thường là khô ráo (supp=0.74)\n",
        "        - Các điều kiện bên trên là điều kiện thuận lợi cho giao thông. Do đó, có thể kết luận rằng tai nạn xảy ra, phần đa là do yếu tố người điều khiển phương tiện\n",
        "    2. Itemset 12: Các vụ tai nạn ô tô thường là nhẹ (supp=0.57, conf=0.86)\n",
        "    3. Itemset 23: Nếu tình trạng thời tiết ổn định (và không có gió to) và điều kiện buổi sáng, có đèn đường thì các vụ tai nạn xảy ra với mức độ nhẹ (supp=0.55, conf=0.83)\n",
        "    4. Itemset 24: Nếu tình trạng thời tiết ổn định (và không có gió to) và tình trạng mặt đường khô ráo thì các vụ tai nạn xảy ra với mức độ nhẹ (supp=0.58, conf=0.83)"
      ]
    },
    {
      "cell_type": "markdown",
      "metadata": {
        "id": "QyE36E56SPBu"
      },
      "source": [
        "## Phân tích mô tả\n",
        "\n"
      ]
    },
    {
      "cell_type": "markdown",
      "metadata": {
        "id": "v2KqzPeqCXV8"
      },
      "source": [
        "### Vị trí các vụ tai nạn"
      ]
    },
    {
      "cell_type": "code",
      "metadata": {
        "id": "43Up6K2XC6Fl"
      },
      "source": [
        ""
      ],
      "execution_count": null,
      "outputs": []
    },
    {
      "cell_type": "markdown",
      "metadata": {
        "id": "ET0DqLuyg4Fb"
      },
      "source": [
        "### Xu hướng về số lượng tai nạn giao thông theo thời gian"
      ]
    },
    {
      "cell_type": "code",
      "metadata": {
        "colab": {
          "base_uri": "https://localhost:8080/",
          "height": 541
        },
        "id": "suppHWHTvXJD",
        "outputId": "2c44d2d5-4ad3-4d06-c53a-dcb3a168cd6e"
      },
      "source": [
        "dateCount = df['Accident Date'].apply(lambda x: x[:-3]).value_counts().sort_index()\n",
        "draw(dateCount.index, dateCount.values, 'Thống kê số lượng vụ tai nạn theo tháng', 'Thời gian', 'Số lượng', (10,8), rotation=45)"
      ],
      "execution_count": 94,
      "outputs": [
        {
          "output_type": "display_data",
          "data": {
            "image/png": "[encoded data removed]",
            "text/plain": [
              "<Figure size 720x576 with 1 Axes>"
            ]
          },
          "metadata": {
            "tags": [],
            "needs_background": "light"
          }
        }
      ]
    },
    {
      "cell_type": "markdown",
      "metadata": {
        "id": "YfcrN_woyBB6"
      },
      "source": [
        "- Từ năm 2018 đến 2019, số lượng vụ tai nạn giao thông có xu hướng dữ nguyên. Đối với từng năm, có một vài khoảng thời gian làm cho tai nạn giao thông tăng lên so với bình thường\n",
        "\t- Tháng 1: Đây thời gian diễn ra Tết dương lịch, số lượng người đi du lịch hoặc đi thăm bạn bè, họ hàng sẽ tăng lên. Do đó số vụ tai nạn giao thông cũng tăng theo\n",
        "\t- Từ tháng 3 đến tháng 6 là khoảng thời gian hè, mọi người có xu hướng đi du lịch. Do đó số lượng vụ tai nạn giao thông tăng dần trong khoảng thời gian này, đỉnh điểm là tháng 6, khi thời tiết trở nên nóng bức nhất.\n",
        "\t- Tháng 10, 11: Đây là nơi diễn ra 2 ngày lễ lớn của UK là Quốc Khánh và Lễ Tạ ơn, người ta có xu hướng sẽ đi du lịch hoặc trở về từ thành phố cùng gia đình. Do đó số lượng tai nạn tăng lên."
      ]
    },
    {
      "cell_type": "code",
      "metadata": {
        "colab": {
          "base_uri": "https://localhost:8080/",
          "height": 539
        },
        "id": "VWK8wVQvj27w",
        "outputId": "cabfb622-5a61-4851-ed4f-0c5030d87409"
      },
      "source": [
        "x_axis = makeXAxis(0,1,23)\n",
        "y_axis = makeYAxis(df['Time (24hr)'].apply(lambda x: x[:2]).astype(int), x_axis)\n",
        "draw(x_axis, y_axis, 'Thống kê tai nạn theo thời gian trong ngày', 'Giờ', 'Số lượng',(10,8),rotation=45)"
      ],
      "execution_count": 73,
      "outputs": [
        {
          "output_type": "display_data",
          "data": {
            "image/png": "[encoded data removed]",
            "text/plain": [
              "<Figure size 720x576 with 1 Axes>"
            ]
          },
          "metadata": {
            "tags": [],
            "needs_background": "light"
          }
        }
      ]
    },
    {
      "cell_type": "markdown",
      "metadata": {
        "id": "Hf6xrZwpo820"
      },
      "source": [
        "- Khoảng thời gian cao điểm của tai nạn giao thông trong ngày rơi vào từ 7 giờ đến 20 giờ. Có thể chia ra làm 2 khoảng cao điểm chính:\n",
        "\t- Từ 7h đến 10h: Khoảng thời gian bắt đầu đi làm, đỉnh điểm rơi vào 1 tiếng đồng hồ từ 8h đến 9h.\n",
        "\t- Từ 15h đến 19h: Khoảng thời gian tan làm, đỉnh điểm rơi vào 1 tiếng đồng hồ từ 16h đến 17h.\n",
        "Trong khoảng thời gian này, số vụ tai nạn chiếm gần 10% tổng số vụ tai nạn xảy ra trong 2 năm.\n",
        "- Do đó, cần chú ý khi tham gia giao thông vào giờ cao điểm."
      ]
    },
    {
      "cell_type": "markdown",
      "metadata": {
        "id": "sg-uC-o96pp7"
      },
      "source": [
        "### Liên hệ giữa độ tuổi, giới tính và mức độ nghiêm trọng của tai nạn"
      ]
    },
    {
      "cell_type": "code",
      "metadata": {
        "colab": {
          "base_uri": "https://localhost:8080/",
          "height": 376
        },
        "id": "sKcSB8jikpvR",
        "outputId": "ee5700d4-e409-4855-c294-1ec2d2c68993"
      },
      "source": [
        "x_axis = makeXAxis(start=0, step=5, end=np.max(df['Age of Casualty']))\n",
        "y_axis = makeYAxis(df['Age of Casualty'],x_axis)\n",
        "draw(x_axis, y_axis, 'Thống kê độ tuổi tai nạn', 'Tuổi', 'Số lượng', (10,5))"
      ],
      "execution_count": 89,
      "outputs": [
        {
          "output_type": "display_data",
          "data": {
            "image/png": "[encoded data removed]",
            "text/plain": [
              "<Figure size 720x360 with 1 Axes>"
            ]
          },
          "metadata": {
            "tags": [],
            "needs_background": "light"
          }
        }
      ]
    },
    {
      "cell_type": "markdown",
      "metadata": {
        "id": "E2HIFQsN9dQu"
      },
      "source": [
        "- Quan sát biểu đồ trên, ta thấy độ tuổi gây tai nạn nhiều nhất là từ 20 đến 40 tuổi.\n",
        "- Tiếp tục khảo sát yếu tố độ tuổi với các yếu tố khác."
      ]
    },
    {
      "cell_type": "code",
      "metadata": {
        "colab": {
          "base_uri": "https://localhost:8080/",
          "height": 435
        },
        "id": "VWw28-Qw91hg",
        "outputId": "5d761676-2a82-4387-aea6-41ed1ba98174"
      },
      "source": [
        "casualty_class = df['Casualty Class'].unique()\n",
        "\n",
        "fig, axes = plt.subplots(1, 3, figsize=(14, 6))\n",
        "fig.suptitle('Biểu diễn quan hệ giữa độ tuổi, đối tượng bị tai nạn và mức độ nghiêm trọng của tai nạn')\n",
        "for i in range(len(casualty_class)):\n",
        "    data_df = df[df['Casualty Class'] == casualty_class[i]]\n",
        "    sns.boxenplot(data=data_df, x='Casualty Severity', y='Age of Casualty', hue='Sex of Casualty', ax=axes[i])\n",
        "    sns.pointplot(data=data_df, x='Casualty Severity', y='Age of Casualty', hue='Sex of Casualty',\n",
        "                  linestyles='None', errwidth=0, dodge=0.4, markers=['^', '^'], palette='Set1', ax=axes[i])\n",
        "    \n",
        "    axes[i].get_legend().remove()\n",
        "    axes[i].set_title(casualty_class[i])\n",
        "\n",
        "handles, labels = axes[0].get_legend_handles_labels()\n",
        "fig.legend(handles[:2], labels[:2], title='Gender')\n",
        "fig.legend(handles[2:], labels[2:], title='Mean Age of Casuaty', loc='upper left')\n",
        "\n",
        "plt.show()"
      ],
      "execution_count": 93,
      "outputs": [
        {
          "output_type": "display_data",
          "data": {
            "image/png": "[encoded data removed]",
            "text/plain": [
              "<Figure size 1008x432 with 3 Axes>"
            ]
          },
          "metadata": {
            "tags": [],
            "needs_background": "light"
          }
        }
      ]
    },
    {
      "cell_type": "markdown",
      "metadata": {
        "id": "3B6wpucjoSVe"
      },
      "source": [
        "- Quan sát cả 2 biểu đồ trên, có thể kết luận rằng\n",
        "    - Độ tuổi dễ gây tai nạn giao động từ 15 đến 50.\n",
        "    - Độ tuổi gây tai nạn trung bình của nam luôn thấp hơn nữ.\n",
        "    - Trong đó\n",
        "        - Đối với đối tượng tai nạn là hành khách đi cùng, nữ chiếm đa số. Do điều kiện sức khoẻ cũng như khả năng phản ứng của nữ thường thấp hơn nam nên số ca nữ thường nhiều hơn.\n",
        "        - Đối với đối tượng tai nạn là người điều khiển phương tiện, nam chiếm đa số; số ca tử vong của nam (chỉ xuất hiện ở độ tuổi từ 20-40) gấp nhiều lần số lượng nữ (chỉ xuất hiện ở độ tuổi 80). Dễ thấy ở nam giới, độ tuổi này thường có cuộc sống vội vã. Do đó, cần chú ý hơn khi tham gia giao thông.\n",
        "        - Đối với người đi bộ, số ca tử vong của nữ gần như gấp 2 lần số ca tử vong của nam, độ tuổi tai nạn của nữ giới giao động từ 60 trở lên. Do đó, đối tượng nữ là người già cần phải chú ý khi tham gia giao thông hoặc khi ra đường, cần có người bảo hộ đi cùng.\n",
        "    - Đặc biệt, đối với đối tượng tai nạn là người điều khiển phương tiện, xuất hiện các ca tử vong ở nam giới tầm 12 tuổi và các ca nghiêm trọng ở nam giới trong tầm dưới 10 tuổi. Phụ huynh cần chú ý đến hành vi của trẻ trong độ tuổi này để tránh tai nạn đáng tiếc."
      ]
    },
    {
      "cell_type": "markdown",
      "metadata": {
        "id": "lhH_yRN161A5"
      },
      "source": [
        "### Liên hệ giữa loại đường, điều kiện sáng với mức độ nghiêm trọng"
      ]
    },
    {
      "cell_type": "code",
      "metadata": {
        "id": "--qCAtt-O6zE"
      },
      "source": [
        "anotherDf['Casualty Severity'].value_counts()"
      ],
      "execution_count": null,
      "outputs": []
    },
    {
      "cell_type": "code",
      "metadata": {
        "id": "rsvZopZW9L8e"
      },
      "source": [
        "light_conditions = anotherDf['Lighting Conditions'].unique()\n",
        "figrows = 3; figcols = 2\n",
        "\n",
        "fig, axes = plt.subplots(figrows, figcols, figsize=(15, 14))\n",
        "fig.tight_layout()\n",
        "fig.subplots_adjust(hspace=0.2, wspace=0.2)\n",
        "for i in range(len(anotherDf['Road Surface'].unique())):\n",
        "    sns.countplot(data=anotherDf[anotherDf['Lighting Conditions'] == light_conditions[i]], x='1st Road Class',\n",
        "                 hue='Casualty Severity', ax=axes[i // figcols, i % figcols])\n",
        "    axes[i // figcols, i % figcols].get_legend().remove()\n",
        "    axes[i // figcols, i % figcols].set_title(light_conditions[i])\n",
        "    axes[i // figcols, i % figcols].set_xticklabels(anotherDf['1st Road Class'].unique())\n",
        "    \n",
        "handles, labels = axes[0, 0].get_legend_handles_labels()\n",
        "fig.legend(handles, labels)\n",
        "fig.delaxes(axes[-1, -1])"
      ],
      "execution_count": null,
      "outputs": []
    },
    {
      "cell_type": "markdown",
      "metadata": {
        "id": "ZRRq9Ng2CicJ"
      },
      "source": [
        "- Biểu đồ trên khảo sát mức độ nghiêm trọng của các vụ tai nạn xảy ra trên các loại đường dựa theo điều kiện ánh sáng\n",
        "- Quan sát biểu đồ, ta có được một vài đặc trưng sau\n",
        "    - Đối với đường 'Unclassified', "
      ]
    }
  ]
}