{
  "nbformat": 4,
  "nbformat_minor": 5,
  "metadata": {
    "kernelspec": {
      "name": "python383jvsc74a57bd0e134e05457d34029b6460cd73bbf1ed73f339b5b6d98c95be70b69eba114fe95",
      "display_name": "Python 3.8.3 64-bit ('base': conda)"
    },
    "language_info": {
      "codemirror_mode": {
        "name": "ipython",
        "version": 3
      },
      "file_extension": ".py",
      "mimetype": "text/x-python",
      "name": "python",
      "nbconvert_exporter": "python",
      "pygments_lexer": "ipython3",
      "version": "3.8.3"
    },
    "colab": {
      "name": "merge_data.ipynb",
      "provenance": [],
      "collapsed_sections": []
    }
  },
  "cells": [
    {
      "cell_type": "code",
      "metadata": {
        "id": "d52653f5"
      },
      "source": [
        "import pandas as pd\n",
        "import numpy as np "
      ],
      "id": "d52653f5",
      "execution_count": 1,
      "outputs": []
    },
    {
      "cell_type": "markdown",
      "metadata": {
        "id": "YqLsulFAw2Ix"
      },
      "source": [
        "- Nhận xét chung các file dữ liệu\n",
        "    - File 2018 và 2019: Các trường dữ liệu định danh được thay bằng các số tăng dần từ 1\n",
        "    - Các file dữ liệu còn: Các trường dữ liệu định danh được giữ nguyên, không thay bằng số\n",
        "\n",
        "- Do đó, tiến hành merge file 2018 và 2019 trước, sau đó thay dữ liệu của các cột định danh và merge với các file còn lại"
      ],
      "id": "YqLsulFAw2Ix"
    },
    {
      "cell_type": "code",
      "metadata": {
        "id": "f3dc5723"
      },
      "source": [
        "df_18 = pd.read_csv('../../Data/data_2018.csv')\n",
        "df_19 = pd.read_csv('../../Data/data_2019.csv')"
      ],
      "id": "f3dc5723",
      "execution_count": 2,
      "outputs": []
    },
    {
      "cell_type": "code",
      "metadata": {
        "colab": {
          "base_uri": "https://localhost:8080/",
          "height": 213
        },
        "id": "7ee1b28b",
        "outputId": "a1cd92e6-c3a1-4ce7-8b2e-d19dd8640995"
      },
      "source": [
        "df_18.head(3)"
      ],
      "id": "7ee1b28b",
      "execution_count": 3,
      "outputs": [
        {
          "output_type": "execute_result",
          "data": {
            "text/plain": [
              "  Accident Fields_Reference Number  Grid Ref: Easting  Grid Ref: Northing  \\\n",
              "0                          51B0230             433936              428874   \n",
              "1                          51B0349             430076              433872   \n",
              "2                          51B0349             430076              433872   \n",
              "\n",
              "   Number of Vehicles Accident Date  Time (24hr)  1st Road Class  \\\n",
              "0                   1    11/01/2018          700               6   \n",
              "1                   1    11/01/2018          855               6   \n",
              "2                   1    11/01/2018          855               6   \n",
              "\n",
              "  1st Road Class & No  Road Surface  Lighting Conditions  ...  \\\n",
              "0                   U             1                    4  ...   \n",
              "1                   U             2                    1  ...   \n",
              "2                   U             2                    1  ...   \n",
              "\n",
              "   Local Authority Vehicle Fields_Reference Number Vehicle Number  \\\n",
              "0        E08000035                         51B0230              1   \n",
              "1        E08000035                         51B0349              1   \n",
              "2        E08000035                         51B0349              1   \n",
              "\n",
              "   Type of Vehicle  Casualty Fields_Reference Number Casualty Veh No  \\\n",
              "0                9                           51B0230               1   \n",
              "1               11                           51B0349               1   \n",
              "2               11                           51B0349               1   \n",
              "\n",
              "   Casualty Class  Casualty Severity  Sex of Casualty  Age of Casualty  \n",
              "0               3                  3                2               87  \n",
              "1               2                  3                2               60  \n",
              "2               2                  3                2               51  \n",
              "\n",
              "[3 rows x 21 columns]"
            ],
            "text/html": "<div>\n<style scoped>\n    .dataframe tbody tr th:only-of-type {\n        vertical-align: middle;\n    }\n\n    .dataframe tbody tr th {\n        vertical-align: top;\n    }\n\n    .dataframe thead th {\n        text-align: right;\n    }\n</style>\n<table border=\"1\" class=\"dataframe\">\n  <thead>\n    <tr style=\"text-align: right;\">\n      <th></th>\n      <th>Accident Fields_Reference Number</th>\n      <th>Grid Ref: Easting</th>\n      <th>Grid Ref: Northing</th>\n      <th>Number of Vehicles</th>\n      <th>Accident Date</th>\n      <th>Time (24hr)</th>\n      <th>1st Road Class</th>\n      <th>1st Road Class &amp; No</th>\n      <th>Road Surface</th>\n      <th>Lighting Conditions</th>\n      <th>...</th>\n      <th>Local Authority</th>\n      <th>Vehicle Fields_Reference Number</th>\n      <th>Vehicle Number</th>\n      <th>Type of Vehicle</th>\n      <th>Casualty Fields_Reference Number</th>\n      <th>Casualty Veh No</th>\n      <th>Casualty Class</th>\n      <th>Casualty Severity</th>\n      <th>Sex of Casualty</th>\n      <th>Age of Casualty</th>\n    </tr>\n  </thead>\n  <tbody>\n    <tr>\n      <th>0</th>\n      <td>51B0230</td>\n      <td>433936</td>\n      <td>428874</td>\n      <td>1</td>\n      <td>11/01/2018</td>\n      <td>700</td>\n      <td>6</td>\n      <td>U</td>\n      <td>1</td>\n      <td>4</td>\n      <td>...</td>\n      <td>E08000035</td>\n      <td>51B0230</td>\n      <td>1</td>\n      <td>9</td>\n      <td>51B0230</td>\n      <td>1</td>\n      <td>3</td>\n      <td>3</td>\n      <td>2</td>\n      <td>87</td>\n    </tr>\n    <tr>\n      <th>1</th>\n      <td>51B0349</td>\n      <td>430076</td>\n      <td>433872</td>\n      <td>1</td>\n      <td>11/01/2018</td>\n      <td>855</td>\n      <td>6</td>\n      <td>U</td>\n      <td>2</td>\n      <td>1</td>\n      <td>...</td>\n      <td>E08000035</td>\n      <td>51B0349</td>\n      <td>1</td>\n      <td>11</td>\n      <td>51B0349</td>\n      <td>1</td>\n      <td>2</td>\n      <td>3</td>\n      <td>2</td>\n      <td>60</td>\n    </tr>\n    <tr>\n      <th>2</th>\n      <td>51B0349</td>\n      <td>430076</td>\n      <td>433872</td>\n      <td>1</td>\n      <td>11/01/2018</td>\n      <td>855</td>\n      <td>6</td>\n      <td>U</td>\n      <td>2</td>\n      <td>1</td>\n      <td>...</td>\n      <td>E08000035</td>\n      <td>51B0349</td>\n      <td>1</td>\n      <td>11</td>\n      <td>51B0349</td>\n      <td>1</td>\n      <td>2</td>\n      <td>3</td>\n      <td>2</td>\n      <td>51</td>\n    </tr>\n  </tbody>\n</table>\n<p>3 rows × 21 columns</p>\n</div>"
          },
          "metadata": {},
          "execution_count": 3
        }
      ]
    },
    {
      "cell_type": "code",
      "metadata": {
        "colab": {
          "base_uri": "https://localhost:8080/",
          "height": 213
        },
        "id": "8dc26214",
        "outputId": "0d086b37-2cc9-4e6f-c665-5cb92a757936"
      },
      "source": [
        "df_19.head(3)"
      ],
      "id": "8dc26214",
      "execution_count": 4,
      "outputs": [
        {
          "output_type": "execute_result",
          "data": {
            "text/plain": [
              "  Reference Number  Grid Ref: Easting  Grid Ref: Northing  Number of Vehicles  \\\n",
              "0          58F1730             436147              434957                   2   \n",
              "1          58F1730             436147              434957                   2   \n",
              "2          58F1730             436147              434957                   2   \n",
              "\n",
              "  Accident Date  Time (24hr)  1st Road Class 1st Road Class & No  \\\n",
              "0    15/08/2019         1812               3               A6120   \n",
              "1    15/08/2019         1812               3               A6120   \n",
              "2    15/08/2019         1812               3               A6120   \n",
              "\n",
              "   Road Surface  Lighting Conditions  Weather Conditions Local Authority  \\\n",
              "0             1                    1                   1       E08000035   \n",
              "1             1                    1                   1       E08000035   \n",
              "2             1                    1                   1       E08000035   \n",
              "\n",
              "   Vehicle Number  Type of Vehicle  Casualty Class  Casualty Severity  \\\n",
              "0               2               11               2                  3   \n",
              "1               2               11               2                  3   \n",
              "2               2               11               2                  3   \n",
              "\n",
              "   Sex of Casualty  Age of Casualty  \n",
              "0                2                6  \n",
              "1                1                9  \n",
              "2                2               39  "
            ],
            "text/html": "<div>\n<style scoped>\n    .dataframe tbody tr th:only-of-type {\n        vertical-align: middle;\n    }\n\n    .dataframe tbody tr th {\n        vertical-align: top;\n    }\n\n    .dataframe thead th {\n        text-align: right;\n    }\n</style>\n<table border=\"1\" class=\"dataframe\">\n  <thead>\n    <tr style=\"text-align: right;\">\n      <th></th>\n      <th>Reference Number</th>\n      <th>Grid Ref: Easting</th>\n      <th>Grid Ref: Northing</th>\n      <th>Number of Vehicles</th>\n      <th>Accident Date</th>\n      <th>Time (24hr)</th>\n      <th>1st Road Class</th>\n      <th>1st Road Class &amp; No</th>\n      <th>Road Surface</th>\n      <th>Lighting Conditions</th>\n      <th>Weather Conditions</th>\n      <th>Local Authority</th>\n      <th>Vehicle Number</th>\n      <th>Type of Vehicle</th>\n      <th>Casualty Class</th>\n      <th>Casualty Severity</th>\n      <th>Sex of Casualty</th>\n      <th>Age of Casualty</th>\n    </tr>\n  </thead>\n  <tbody>\n    <tr>\n      <th>0</th>\n      <td>58F1730</td>\n      <td>436147</td>\n      <td>434957</td>\n      <td>2</td>\n      <td>15/08/2019</td>\n      <td>1812</td>\n      <td>3</td>\n      <td>A6120</td>\n      <td>1</td>\n      <td>1</td>\n      <td>1</td>\n      <td>E08000035</td>\n      <td>2</td>\n      <td>11</td>\n      <td>2</td>\n      <td>3</td>\n      <td>2</td>\n      <td>6</td>\n    </tr>\n    <tr>\n      <th>1</th>\n      <td>58F1730</td>\n      <td>436147</td>\n      <td>434957</td>\n      <td>2</td>\n      <td>15/08/2019</td>\n      <td>1812</td>\n      <td>3</td>\n      <td>A6120</td>\n      <td>1</td>\n      <td>1</td>\n      <td>1</td>\n      <td>E08000035</td>\n      <td>2</td>\n      <td>11</td>\n      <td>2</td>\n      <td>3</td>\n      <td>1</td>\n      <td>9</td>\n    </tr>\n    <tr>\n      <th>2</th>\n      <td>58F1730</td>\n      <td>436147</td>\n      <td>434957</td>\n      <td>2</td>\n      <td>15/08/2019</td>\n      <td>1812</td>\n      <td>3</td>\n      <td>A6120</td>\n      <td>1</td>\n      <td>1</td>\n      <td>1</td>\n      <td>E08000035</td>\n      <td>2</td>\n      <td>11</td>\n      <td>2</td>\n      <td>3</td>\n      <td>2</td>\n      <td>39</td>\n    </tr>\n  </tbody>\n</table>\n</div>"
          },
          "metadata": {},
          "execution_count": 4
        }
      ]
    },
    {
      "cell_type": "markdown",
      "metadata": {
        "id": "YskXrb-eyO9H"
      },
      "source": [
        "- Các trường dữ liệu trong 2 tập dữ liệu trên phần đa là giống nhau. Do đó, ta xem xét các cột nghi vấn có dữ liệu trùng và các cột không giống nhau"
      ],
      "id": "YskXrb-eyO9H"
    },
    {
      "cell_type": "code",
      "metadata": {
        "colab": {
          "base_uri": "https://localhost:8080/"
        },
        "id": "9be1d5d2",
        "outputId": "e4d32ee5-2d68-402c-d30e-5e9510c84d51"
      },
      "source": [
        "print(f'Columns 2018: {df_18.columns}')\n",
        "print(f'Columns 2019: {df_19.columns}')"
      ],
      "id": "9be1d5d2",
      "execution_count": 5,
      "outputs": [
        {
          "output_type": "stream",
          "name": "stdout",
          "text": [
            "Columns 2018: Index(['Accident Fields_Reference Number', 'Grid Ref: Easting',\n       'Grid Ref: Northing', 'Number of Vehicles', 'Accident Date',\n       'Time (24hr)', '1st Road Class', '1st Road Class & No', 'Road Surface',\n       'Lighting Conditions', 'Weather Conditions', 'Local Authority',\n       'Vehicle Fields_Reference Number', 'Vehicle Number', 'Type of Vehicle',\n       'Casualty Fields_Reference Number', 'Casualty Veh No', 'Casualty Class',\n       'Casualty Severity', 'Sex of Casualty', 'Age of Casualty'],\n      dtype='object')\nColumns 2019: Index(['Reference Number', 'Grid Ref: Easting', 'Grid Ref: Northing',\n       'Number of Vehicles', 'Accident Date', 'Time (24hr)', '1st Road Class',\n       '1st Road Class & No', 'Road Surface', 'Lighting Conditions',\n       'Weather Conditions', 'Local Authority', 'Vehicle Number',\n       'Type of Vehicle', 'Casualty Class', 'Casualty Severity',\n       'Sex of Casualty', 'Age of Casualty'],\n      dtype='object')\n"
          ]
        }
      ]
    },
    {
      "cell_type": "code",
      "metadata": {
        "colab": {
          "base_uri": "https://localhost:8080/"
        },
        "id": "604a4712",
        "outputId": "f237d448-e190-4e3b-c09e-77bd5810b73c"
      },
      "source": [
        "# Cột 'Accident Fields_Reference Number' và 'Vehicle Fields_Reference Number'\n",
        "(df_18['Accident Fields_Reference Number'] == df_18['Vehicle Fields_Reference Number']).value_counts()"
      ],
      "id": "604a4712",
      "execution_count": 6,
      "outputs": [
        {
          "output_type": "execute_result",
          "data": {
            "text/plain": [
              "True    1995\n",
              "dtype: int64"
            ]
          },
          "metadata": {},
          "execution_count": 6
        }
      ]
    },
    {
      "cell_type": "code",
      "metadata": {
        "colab": {
          "base_uri": "https://localhost:8080/"
        },
        "id": "b5d61c09",
        "outputId": "660335fd-9429-4350-a287-c55b99d6053a"
      },
      "source": [
        "# Cột 'Accident Fields_Reference Number' và 'Casualty Fields_Reference Number'\n",
        "(df_18['Accident Fields_Reference Number'] == df_18['Casualty Fields_Reference Number']).value_counts()"
      ],
      "id": "b5d61c09",
      "execution_count": 7,
      "outputs": [
        {
          "output_type": "execute_result",
          "data": {
            "text/plain": [
              "True    1995\n",
              "dtype: int64"
            ]
          },
          "metadata": {},
          "execution_count": 7
        }
      ]
    },
    {
      "cell_type": "code",
      "metadata": {
        "colab": {
          "base_uri": "https://localhost:8080/"
        },
        "id": "00a6580f",
        "outputId": "51940fc1-a875-4708-e24c-e08904ae7877"
      },
      "source": [
        "# Cột 'Number of Vehicles' và 'Vehicle Number' năm 2018 và 2019\n",
        "print('2018\\n', (df_18['Number of Vehicles'] == df_18['Vehicle Number']).value_counts())\n",
        "print()\n",
        "print('2019\\n', (df_19['Number of Vehicles'] == df_19['Vehicle Number']).value_counts())"
      ],
      "id": "00a6580f",
      "execution_count": 8,
      "outputs": [
        {
          "output_type": "stream",
          "name": "stdout",
          "text": [
            "2018\n True     1301\nFalse     694\ndtype: int64\n\n2019\n True     1288\nFalse     619\ndtype: int64\n"
          ]
        }
      ]
    },
    {
      "cell_type": "markdown",
      "metadata": {
        "id": "d536c324"
      },
      "source": [
        "- Vậy phát hiện cột **'Accident Fields_Reference Number', 'Vehicle Fields_Reference Number' và 'Casualty Fields_Reference Number'** trong tập dữ liệu năm 2018 giống nhau. Thực hiện xóa 2 cột sau và đổi tên cột đầu thành **'Reference Number'** để ghép với tập dữ liệu năm 2019\n",
        "\n",
        "- Trong cả 2 tập dữ liệu, có 2 cột **'Number of Vehicles'** và **'Vehicle Number'** chứa dữ liệu giống nhau trên 65%. Do đó, xoá cột **'Vehicle Number'** ở cả 2 tập dữ liệu\n",
        "\n",
        "- Ngoài ra cột **'Casualty Veh No'** chỉ có trong tập dữ liệu năm 2018 nên cũng bị xoá để merge dữ liệu"
      ],
      "id": "d536c324"
    },
    {
      "cell_type": "code",
      "metadata": {
        "id": "56801457"
      },
      "source": [
        "# Xóa cột 'Vehicle Fields_Reference Number', 'Casualty Fields_Reference Number', 'Casualty Veh No', 'Vehicle Number' của năm 2018\n",
        "df_18.drop(columns=['Vehicle Fields_Reference Number', 'Casualty Fields_Reference Number',\n",
        "                   'Casualty Veh No', 'Vehicle Number'], inplace=True)\n",
        "\n",
        "# Xoá cột 'Vehicle Number' của năm 2019\n",
        "df_19.drop(columns=['Vehicle Number'], inplace=True)\n",
        "\n",
        "# đổi tên cột thành 'Reference Number'\n",
        "df_18.rename(columns={'Accident Fields_Reference Number': 'Reference Number'}, inplace=True)"
      ],
      "id": "56801457",
      "execution_count": 9,
      "outputs": []
    },
    {
      "cell_type": "code",
      "metadata": {
        "colab": {
          "base_uri": "https://localhost:8080/",
          "height": 213
        },
        "id": "0c574894",
        "outputId": "b52a0e42-d3d2-4f83-f529-d9be61c65107"
      },
      "source": [
        "# ghép dữ liệu năm 2018 và 2019\n",
        "df_18_19 = df_18.append(df_19, ignore_index=True)\n",
        "df_18_19.head(3)"
      ],
      "id": "0c574894",
      "execution_count": 10,
      "outputs": [
        {
          "output_type": "execute_result",
          "data": {
            "text/plain": [
              "  Reference Number  Grid Ref: Easting  Grid Ref: Northing  Number of Vehicles  \\\n",
              "0          51B0230             433936              428874                   1   \n",
              "1          51B0349             430076              433872                   1   \n",
              "2          51B0349             430076              433872                   1   \n",
              "\n",
              "  Accident Date  Time (24hr)  1st Road Class 1st Road Class & No  \\\n",
              "0    11/01/2018          700               6                   U   \n",
              "1    11/01/2018          855               6                   U   \n",
              "2    11/01/2018          855               6                   U   \n",
              "\n",
              "   Road Surface  Lighting Conditions  Weather Conditions Local Authority  \\\n",
              "0             1                    4                   1       E08000035   \n",
              "1             2                    1                   1       E08000035   \n",
              "2             2                    1                   1       E08000035   \n",
              "\n",
              "   Type of Vehicle  Casualty Class  Casualty Severity  Sex of Casualty  \\\n",
              "0                9               3                  3                2   \n",
              "1               11               2                  3                2   \n",
              "2               11               2                  3                2   \n",
              "\n",
              "   Age of Casualty  \n",
              "0               87  \n",
              "1               60  \n",
              "2               51  "
            ],
            "text/html": "<div>\n<style scoped>\n    .dataframe tbody tr th:only-of-type {\n        vertical-align: middle;\n    }\n\n    .dataframe tbody tr th {\n        vertical-align: top;\n    }\n\n    .dataframe thead th {\n        text-align: right;\n    }\n</style>\n<table border=\"1\" class=\"dataframe\">\n  <thead>\n    <tr style=\"text-align: right;\">\n      <th></th>\n      <th>Reference Number</th>\n      <th>Grid Ref: Easting</th>\n      <th>Grid Ref: Northing</th>\n      <th>Number of Vehicles</th>\n      <th>Accident Date</th>\n      <th>Time (24hr)</th>\n      <th>1st Road Class</th>\n      <th>1st Road Class &amp; No</th>\n      <th>Road Surface</th>\n      <th>Lighting Conditions</th>\n      <th>Weather Conditions</th>\n      <th>Local Authority</th>\n      <th>Type of Vehicle</th>\n      <th>Casualty Class</th>\n      <th>Casualty Severity</th>\n      <th>Sex of Casualty</th>\n      <th>Age of Casualty</th>\n    </tr>\n  </thead>\n  <tbody>\n    <tr>\n      <th>0</th>\n      <td>51B0230</td>\n      <td>433936</td>\n      <td>428874</td>\n      <td>1</td>\n      <td>11/01/2018</td>\n      <td>700</td>\n      <td>6</td>\n      <td>U</td>\n      <td>1</td>\n      <td>4</td>\n      <td>1</td>\n      <td>E08000035</td>\n      <td>9</td>\n      <td>3</td>\n      <td>3</td>\n      <td>2</td>\n      <td>87</td>\n    </tr>\n    <tr>\n      <th>1</th>\n      <td>51B0349</td>\n      <td>430076</td>\n      <td>433872</td>\n      <td>1</td>\n      <td>11/01/2018</td>\n      <td>855</td>\n      <td>6</td>\n      <td>U</td>\n      <td>2</td>\n      <td>1</td>\n      <td>1</td>\n      <td>E08000035</td>\n      <td>11</td>\n      <td>2</td>\n      <td>3</td>\n      <td>2</td>\n      <td>60</td>\n    </tr>\n    <tr>\n      <th>2</th>\n      <td>51B0349</td>\n      <td>430076</td>\n      <td>433872</td>\n      <td>1</td>\n      <td>11/01/2018</td>\n      <td>855</td>\n      <td>6</td>\n      <td>U</td>\n      <td>2</td>\n      <td>1</td>\n      <td>1</td>\n      <td>E08000035</td>\n      <td>11</td>\n      <td>2</td>\n      <td>3</td>\n      <td>2</td>\n      <td>51</td>\n    </tr>\n  </tbody>\n</table>\n</div>"
          },
          "metadata": {},
          "execution_count": 10
        }
      ]
    },
    {
      "cell_type": "markdown",
      "metadata": {
        "id": "9d44ab99"
      },
      "source": [
        "- Thay dữ liệu: Các cột `1st Road Class`, `Road Surface`, `Lighting Conditions`, `Weather Conditions`, `Type of Vehicle`, `Casualty Class`, `Casualty Severity`, `Sex of Casualty` sẽ được thay dữ liệu số bằng dữ liệu định danh thật\n",
        "- Dữ liệu định danh này có thể tìm thấy tại file `./Data/guidace.xlsx`."
      ],
      "id": "9d44ab99"
    },
    {
      "cell_type": "code",
      "metadata": {
        "colab": {
          "base_uri": "https://localhost:8080/"
        },
        "id": "ug35lCwgy-7-",
        "outputId": "39d83d82-fb70-4b3c-a9f5-345859966fcd"
      },
      "source": [
        "# thay dữ liệu cho các cột trong dataset \n",
        "df_18_19['1st Road Class'].replace({1: 'Motorway', \n",
        "                              2: 'A(M)', \n",
        "                              3: 'A', \n",
        "                              4: 'B', \n",
        "                              5: 'C', \n",
        "                              6: 'Unclassified'}, inplace=True)\n",
        "\n",
        "df_18_19['Road Surface'].replace({1: 'Dry', \n",
        "                            2: 'Wet / Damp', \n",
        "                            3: 'Snow', \n",
        "                            4: 'Frost / Ice', \n",
        "                            5: 'Flood (surface water over 3cm deep)'}, inplace=True)\n",
        "\n",
        "df_18_19['Casualty Class'].replace({1: 'Driver or rider', \n",
        "                              2: 'Vehicle or pillion passenger', \n",
        "                              3: 'Pedestrian'}, inplace=True)\n",
        "\n",
        "df_18_19['Lighting Conditions'].replace({1: 'Daylight: street lights present', \n",
        "                                   2: 'Daylight: no street lighting', \n",
        "                                   3: 'Daylight: street lighting unknown', \n",
        "                                   4: 'Darkness: street lights present and lit', \n",
        "                                   5: 'Darkness: street lights present but unlit', \n",
        "                                   6: 'Darkness: no street lighting', \n",
        "                                   7: 'Darkness: street lighting unknown'}, inplace=True)\n",
        "\n",
        "df_18_19['Casualty Severity'].replace({1: 'Fatal', \n",
        "                                 2: 'Serious', \n",
        "                                 3: 'Slight'}, inplace=True)\n",
        "\n",
        "df_18_19['Weather Conditions'].replace({1: 'Fine without high winds', \n",
        "                                  2: 'Raining without high winds', \n",
        "                                  3: 'Snowing without high winds', \n",
        "                                  4: 'Fine with high winds', \n",
        "                                  5: 'Raining with high winds', \n",
        "                                  6: 'Snowing with high winds', \n",
        "                                  7: 'Fog or mist ñ if hazard', \n",
        "                                  8: 'Other', \n",
        "                                  9: 'Unknown'}, inplace=True)\n",
        "\n",
        "df_18_19['Sex of Casualty'].replace({1: 'Male', 2: 'Female'}, inplace=True)\n",
        "\n",
        "df_18_19['Type of Vehicle'].replace({1:\t'Pedal cycle', \n",
        "                               2:\t'M/cycle 50cc and under', \n",
        "                               3:\t'Motorcycle over 50cc and up to 125cc', \n",
        "                               4:\t'Motorcycle over 125cc and up to 500cc', \n",
        "                               5:\t'Motorcycle over 500cc', \n",
        "                               6:\t'[Not used]', \n",
        "                               7:\t'[Not used]', \n",
        "                               8:\t'Taxi/Private hire car', \n",
        "                               9:\t'Car', \n",
        "                               10:\t'Minibus (8 to 16 passenger seats)', \n",
        "                               11:\t'Bus or coach (17 or more passenger seats)', \n",
        "                               12:\t'[Not used]', \n",
        "                               13:\t'[Not used]', \n",
        "                               14:\t'Other motor vehicle', \n",
        "                               15:\t'Other non-motor vehicle', \n",
        "                               16:\t'Ridden horse', \n",
        "                               17:\t'Agricultural vehicle (includes diggers etc.)', \n",
        "                               18:\t'Tram / Light rail', \n",
        "                               19:\t'Goods vehicle 3.5 tonnes mgw and under', \n",
        "                               20:\t'Goods vehicle over 3.5 tonnes and under 7.5 tonnes mgw', \n",
        "                               21:\t'Goods vehicle 7.5 tonnes mgw and over', \n",
        "                               22:\t'Mobility Scooter', \n",
        "                               90:\t'Other Vehicle ', \n",
        "                               97:\t'Motorcycle - Unknown CC'}, inplace=True)\n",
        "\n",
        "# duyệt lại các cột vừa được thay dữ liệu\n",
        "categoricalCols = ['1st Road Class', 'Road Surface', 'Casualty Class', 'Lighting Conditions', 'Casualty Severity', 'Weather Conditions', 'Sex of Casualty', 'Type of Vehicle']\n",
        "\n",
        "for col in categoricalCols:\n",
        "  print(f'column: {col}\\n{df_18_19[col].value_counts()}\\n\\n')"
      ],
      "id": "ug35lCwgy-7-",
      "execution_count": 11,
      "outputs": [
        {
          "output_type": "stream",
          "name": "stdout",
          "text": [
            "column: 1st Road Class\nUnclassified    2069\nA               1203\nMotorway         338\nB                149\nA(M)             135\nC                  8\nName: 1st Road Class, dtype: int64\n\n\ncolumn: Road Surface\nDry                                    2885\nWet / Damp                              946\nFrost / Ice                              37\nSnow                                     25\nFlood (surface water over 3cm deep)       7\n9                                         2\nName: Road Surface, dtype: int64\n\n\ncolumn: Casualty Class\nDriver or rider                 2356\nVehicle or pillion passenger     904\nPedestrian                       642\nName: Casualty Class, dtype: int64\n\n\ncolumn: Lighting Conditions\nDaylight: street lights present              2832\nDarkness: street lights present and lit       894\nDarkness: no street lighting                   87\nDarkness: street lighting unknown              70\nDarkness: street lights present but unlit      19\nName: Lighting Conditions, dtype: int64\n\n\ncolumn: Casualty Severity\nSlight     3209\nSerious     645\nFatal        48\nName: Casualty Severity, dtype: int64\n\n\ncolumn: Weather Conditions\nFine without high winds       3390\nRaining without high winds     381\nRaining with high winds         45\nFine with high winds            35\nOther                           20\nSnowing without high winds      19\nSnowing with high winds          5\nFog or mist ñ if hazard          5\nUnknown                          2\nName: Weather Conditions, dtype: int64\n\n\ncolumn: Sex of Casualty\nMale      2325\nFemale    1577\nName: Sex of Casualty, dtype: int64\n\n\ncolumn: Type of Vehicle\nCar                                                       2554\nPedal cycle                                                530\nBus or coach (17 or more passenger seats)                  192\nMotorcycle over 50cc and up to 125cc                       138\nTaxi/Private hire car                                      132\nGoods vehicle 3.5 tonnes mgw and under                     129\nMotorcycle over 500cc                                       78\nMotorcycle over 125cc and up to 500cc                       48\nM/cycle 50cc and under                                      33\nGoods vehicle 7.5 tonnes mgw and over                       26\nGoods vehicle over 3.5 tonnes and under 7.5 tonnes mgw      12\nMinibus (8 to 16 passenger seats)                           10\nMobility Scooter                                             6\nOther Vehicle                                                6\nMotorcycle - Unknown CC                                      4\nRidden horse                                                 3\nAgricultural vehicle (includes diggers etc.)                 1\nName: Type of Vehicle, dtype: int64\n\n\n"
          ]
        }
      ]
    },
    {
      "cell_type": "markdown",
      "metadata": {
        "id": "1N3inG3qzHDS"
      },
      "source": [
        "- Quan sát phần thống kê giá trị của các cột dữ liệu phía trên, ta thấy có 2 điểm dữ liệu dị thường vì mang giá trị `Road Surface` là 9 (không được định nghĩa trong file ./Data/guidace.xlsx)\n",
        "- Tiến hành xóa 2 dòng này"
      ],
      "id": "1N3inG3qzHDS"
    },
    {
      "cell_type": "code",
      "metadata": {
        "colab": {
          "base_uri": "https://localhost:8080/",
          "height": 120
        },
        "id": "fyLmq5_nzmG3",
        "outputId": "16b1fda1-e037-4bce-a061-d0c9804e9ff2"
      },
      "source": [
        "# tiến hành xoá 2 điểm này\n",
        "df_18_19.drop(index=[2518,2019], inplace=True)\n",
        "df_18_19[df_18_19['Road Surface']==9]"
      ],
      "id": "fyLmq5_nzmG3",
      "execution_count": 12,
      "outputs": [
        {
          "output_type": "execute_result",
          "data": {
            "text/plain": [
              "Empty DataFrame\n",
              "Columns: [Reference Number, Grid Ref: Easting, Grid Ref: Northing, Number of Vehicles, Accident Date, Time (24hr), 1st Road Class, 1st Road Class & No, Road Surface, Lighting Conditions, Weather Conditions, Local Authority, Type of Vehicle, Casualty Class, Casualty Severity, Sex of Casualty, Age of Casualty]\n",
              "Index: []"
            ],
            "text/html": "<div>\n<style scoped>\n    .dataframe tbody tr th:only-of-type {\n        vertical-align: middle;\n    }\n\n    .dataframe tbody tr th {\n        vertical-align: top;\n    }\n\n    .dataframe thead th {\n        text-align: right;\n    }\n</style>\n<table border=\"1\" class=\"dataframe\">\n  <thead>\n    <tr style=\"text-align: right;\">\n      <th></th>\n      <th>Reference Number</th>\n      <th>Grid Ref: Easting</th>\n      <th>Grid Ref: Northing</th>\n      <th>Number of Vehicles</th>\n      <th>Accident Date</th>\n      <th>Time (24hr)</th>\n      <th>1st Road Class</th>\n      <th>1st Road Class &amp; No</th>\n      <th>Road Surface</th>\n      <th>Lighting Conditions</th>\n      <th>Weather Conditions</th>\n      <th>Local Authority</th>\n      <th>Type of Vehicle</th>\n      <th>Casualty Class</th>\n      <th>Casualty Severity</th>\n      <th>Sex of Casualty</th>\n      <th>Age of Casualty</th>\n    </tr>\n  </thead>\n  <tbody>\n  </tbody>\n</table>\n</div>"
          },
          "metadata": {},
          "execution_count": 12
        }
      ]
    },
    {
      "cell_type": "markdown",
      "metadata": {
        "id": "mEtg8MvuzoIW"
      },
      "source": [
        "- Tiếp tục merge dữ liệu trên với các file còn lại"
      ],
      "id": "mEtg8MvuzoIW"
    },
    {
      "cell_type": "code",
      "metadata": {
        "colab": {
          "base_uri": "https://localhost:8080/"
        },
        "id": "SkAat1f1zuBX",
        "outputId": "e22adfc7-9de7-4015-a6ea-fd808553957e"
      },
      "source": [
        "df_17 = pd.read_csv('../../Data/data_2017.csv')\n",
        "df_17.info()"
      ],
      "id": "SkAat1f1zuBX",
      "execution_count": 13,
      "outputs": [
        {
          "output_type": "stream",
          "name": "stdout",
          "text": [
            "<class 'pandas.core.frame.DataFrame'>\nRangeIndex: 2203 entries, 0 to 2202\nData columns (total 15 columns):\n #   Column               Non-Null Count  Dtype \n---  ------               --------------  ----- \n 0   Reference Number     2203 non-null   object\n 1   Grid Ref: Easting    2203 non-null   int64 \n 2   Grid Ref: Northing   2203 non-null   int64 \n 3   Number of Vehicles   2203 non-null   int64 \n 4   Accident Date        2203 non-null   object\n 5   Time (24hr)          2203 non-null   int64 \n 6   1st Road Class & No  2203 non-null   object\n 7   Road Surface         2203 non-null   object\n 8   Lighting Conditions  2203 non-null   object\n 9   Weather Conditions   2203 non-null   object\n 10  Type of Vehicle      2203 non-null   object\n 11  Casualty Class       2203 non-null   object\n 12  Casualty Severity    2203 non-null   object\n 13  Sex of Casualty      2203 non-null   object\n 14  Age of Casualty      2203 non-null   int64 \ndtypes: int64(5), object(10)\nmemory usage: 258.3+ KB\n"
          ]
        }
      ]
    },
    {
      "cell_type": "markdown",
      "metadata": {
        "id": "eUws2Hh0z2Ir"
      },
      "source": [
        "- File 2017 không có thuộc tính `1st Road Class`. Do đó, ta tạo thêm cột này từ cột `1st Road Class & No`"
      ],
      "id": "eUws2Hh0z2Ir"
    },
    {
      "cell_type": "code",
      "metadata": {
        "colab": {
          "base_uri": "https://localhost:8080/"
        },
        "id": "qnxJtVer0Ske",
        "outputId": "3081e878-0918-4b71-c74a-5342354995ce"
      },
      "source": [
        "df_17['1st Road Class'] = df_17['1st Road Class & No'].apply(lambda x:x[:1])\n",
        "df_17['1st Road Class'] = df_17['1st Road Class'].replace({'U': 'Unclassified'})\n",
        "df_17.info()"
      ],
      "id": "qnxJtVer0Ske",
      "execution_count": 14,
      "outputs": [
        {
          "output_type": "stream",
          "name": "stdout",
          "text": [
            "<class 'pandas.core.frame.DataFrame'>\nRangeIndex: 2203 entries, 0 to 2202\nData columns (total 16 columns):\n #   Column               Non-Null Count  Dtype \n---  ------               --------------  ----- \n 0   Reference Number     2203 non-null   object\n 1   Grid Ref: Easting    2203 non-null   int64 \n 2   Grid Ref: Northing   2203 non-null   int64 \n 3   Number of Vehicles   2203 non-null   int64 \n 4   Accident Date        2203 non-null   object\n 5   Time (24hr)          2203 non-null   int64 \n 6   1st Road Class & No  2203 non-null   object\n 7   Road Surface         2203 non-null   object\n 8   Lighting Conditions  2203 non-null   object\n 9   Weather Conditions   2203 non-null   object\n 10  Type of Vehicle      2203 non-null   object\n 11  Casualty Class       2203 non-null   object\n 12  Casualty Severity    2203 non-null   object\n 13  Sex of Casualty      2203 non-null   object\n 14  Age of Casualty      2203 non-null   int64 \n 15  1st Road Class       2203 non-null   object\ndtypes: int64(5), object(11)\nmemory usage: 275.5+ KB\n"
          ]
        }
      ]
    },
    {
      "cell_type": "code",
      "metadata": {
        "colab": {
          "base_uri": "https://localhost:8080/"
        },
        "id": "vHz3sCpL2yU5",
        "outputId": "45564ffb-9504-4167-a0f6-132c94414b09"
      },
      "source": [
        "df_16 = pd.read_csv('../../Data/data_2016.csv', encoding='cp1252')\n",
        "df_16.info()"
      ],
      "id": "vHz3sCpL2yU5",
      "execution_count": 16,
      "outputs": [
        {
          "output_type": "stream",
          "name": "stdout",
          "text": [
            "<class 'pandas.core.frame.DataFrame'>\nRangeIndex: 2549 entries, 0 to 2548\nData columns (total 16 columns):\n #   Column               Non-Null Count  Dtype \n---  ------               --------------  ----- \n 0   Reference Number     2549 non-null   object\n 1   Grid Ref: Easting    2549 non-null   int64 \n 2   Grid Ref: Northing   2549 non-null   int64 \n 3   Number of Vehicles   2549 non-null   int64 \n 4   Expr1                2549 non-null   object\n 5   Accident Date        2549 non-null   object\n 6   Time (24hr)          2549 non-null   int64 \n 7   1st Road Class       2549 non-null   object\n 8   Road Surface         2549 non-null   object\n 9   Lighting Conditions  2549 non-null   object\n 10  Weather Conditions   2549 non-null   object\n 11  Casualty Class       2549 non-null   object\n 12  Casualty Severity    2549 non-null   object\n 13  Sex of Casualty      2549 non-null   object\n 14  Age of Casualty      2549 non-null   int64 \n 15  Type of Vehicle      2548 non-null   object\ndtypes: int64(5), object(11)\nmemory usage: 318.8+ KB\n"
          ]
        }
      ]
    },
    {
      "cell_type": "code",
      "metadata": {
        "colab": {
          "base_uri": "https://localhost:8080/"
        },
        "id": "iUHCTESi3YSP",
        "outputId": "03d3426f-1fde-4b60-dd15-d58ecea13eaa"
      },
      "source": [
        "df_16['Expr1'].value_counts()"
      ],
      "id": "iUHCTESi3YSP",
      "execution_count": 17,
      "outputs": [
        {
          "output_type": "execute_result",
          "data": {
            "text/plain": [
              "Leeds 2016    2549\n",
              "Name: Expr1, dtype: int64"
            ]
          },
          "metadata": {},
          "execution_count": 17
        }
      ]
    },
    {
      "cell_type": "markdown",
      "metadata": {
        "id": "mY6e0-kc29QV"
      },
      "source": [
        "- File 2016 có cột `Expr1` không được định nghĩa trong file ` ./Data/guidace.xlsx` và duy nhất 1 giá trị. Do đó, xóa cột dữ liệu này"
      ],
      "id": "mY6e0-kc29QV"
    },
    {
      "cell_type": "code",
      "metadata": {
        "id": "fQzt2cP33Xhi"
      },
      "source": [
        "df_16.drop(['Expr1'], axis=1, inplace=True)"
      ],
      "id": "fQzt2cP33Xhi",
      "execution_count": 18,
      "outputs": []
    },
    {
      "cell_type": "code",
      "metadata": {
        "colab": {
          "base_uri": "https://localhost:8080/"
        },
        "id": "PtFBjfxq3kCP",
        "outputId": "33c2b7ac-033b-4759-fac6-48f5ce9230ce"
      },
      "source": [
        "df_15 = pd.read_csv('../../Data/data_2015.csv', encoding='cp1252')\n",
        "df_15.info()"
      ],
      "id": "PtFBjfxq3kCP",
      "execution_count": 20,
      "outputs": [
        {
          "output_type": "stream",
          "name": "stdout",
          "text": [
            "<class 'pandas.core.frame.DataFrame'>\nRangeIndex: 2664 entries, 0 to 2663\nData columns (total 15 columns):\n #   Column               Non-Null Count  Dtype \n---  ------               --------------  ----- \n 0   Reference Number     2664 non-null   object\n 1   Grid Ref: Easting    2664 non-null   int64 \n 2   Grid Ref: Northing   2664 non-null   int64 \n 3   Number of Vehicles   2664 non-null   int64 \n 4   Accident Date        2664 non-null   object\n 5   Time (24hr)          2664 non-null   int64 \n 6   1st Road Class       2664 non-null   object\n 7   Road Surface         2664 non-null   object\n 8   Lighting Conditions  2664 non-null   object\n 9   Weather Conditions   2664 non-null   object\n 10  Casualty Class       2664 non-null   object\n 11  Casualty Severity    2664 non-null   object\n 12  Sex of Casualty      2664 non-null   object\n 13  Age of Casualty      2664 non-null   int64 \n 14  Type of Vehicle      2664 non-null   object\ndtypes: int64(5), object(10)\nmemory usage: 312.3+ KB\n"
          ]
        }
      ]
    },
    {
      "cell_type": "code",
      "metadata": {
        "colab": {
          "base_uri": "https://localhost:8080/"
        },
        "id": "87NTjOrX3sdH",
        "outputId": "269cf6d6-f2d9-4044-afa7-bb12ce703105"
      },
      "source": [
        "df_14 = pd.read_csv('../../Data/data_2014.csv', encoding='cp1252')\n",
        "df_14.info()"
      ],
      "id": "87NTjOrX3sdH",
      "execution_count": 21,
      "outputs": [
        {
          "output_type": "stream",
          "name": "stdout",
          "text": [
            "<class 'pandas.core.frame.DataFrame'>\nRangeIndex: 2533 entries, 0 to 2532\nData columns (total 16 columns):\n #   Column               Non-Null Count  Dtype \n---  ------               --------------  ----- \n 0   Reference Number     2533 non-null   object\n 1   Grid Ref: Easting    2533 non-null   int64 \n 2   Grid Ref: Northing   2533 non-null   int64 \n 3   Number of Vehicles   2533 non-null   int64 \n 4   Accident Date        2533 non-null   object\n 5   Time (24hr)          2533 non-null   int64 \n 6   1st Road Class       2533 non-null   object\n 7   Road Surface         2532 non-null   object\n 8   Lighting Conditions  2533 non-null   object\n 9   Weather Conditions   2533 non-null   object\n 10  Casualty Class       2533 non-null   int64 \n 11  Unnamed: 11          2533 non-null   object\n 12  Casualty Severity    2533 non-null   object\n 13  Sex of Casualty      2533 non-null   object\n 14  Age of Casualty      2533 non-null   int64 \n 15  Type of Vehicle      2533 non-null   object\ndtypes: int64(6), object(10)\nmemory usage: 316.8+ KB\n"
          ]
        }
      ]
    },
    {
      "cell_type": "code",
      "metadata": {
        "colab": {
          "base_uri": "https://localhost:8080/"
        },
        "id": "cqEZaUZv4OPZ",
        "outputId": "e22cf5d9-1223-4b57-baed-1017524ae16d"
      },
      "source": [
        "print(f\"col 'Unnamed: 11': {df_14['Unnamed: 11'].value_counts()}\")\n",
        "print()\n",
        "print(f\"col 'Casualty Class': {df_14['Casualty Class'].value_counts()}\")"
      ],
      "id": "cqEZaUZv4OPZ",
      "execution_count": 22,
      "outputs": [
        {
          "output_type": "stream",
          "name": "stdout",
          "text": [
            "col 'Unnamed: 11': Driver        1436\nPassenger      691\nPedestrian     406\nName: Unnamed: 11, dtype: int64\n\ncol 'Casualty Class': 1    1436\n2     691\n3     406\nName: Casualty Class, dtype: int64\n"
          ]
        }
      ]
    },
    {
      "cell_type": "markdown",
      "metadata": {
        "id": "SfjhJHMi4mJk"
      },
      "source": [
        "- Có vẻ như cột `Unnamed: 11` chứa các giá trị thực sự của cột `Casualty Class`. Do đó, ta xóa cột `Casualty Class` và đổi tên cột `Unnamed: 11` thành `Casualty Class`"
      ],
      "id": "SfjhJHMi4mJk"
    },
    {
      "cell_type": "code",
      "metadata": {
        "colab": {
          "base_uri": "https://localhost:8080/"
        },
        "id": "6yYUsCye6Cgn",
        "outputId": "fefa7934-ea0a-4567-b572-f8ce04ba3b91"
      },
      "source": [
        "df_14.drop(['Casualty Class'], axis=1, inplace=True)\n",
        "df_14.rename(columns={'Unnamed: 11': 'Casualty Class'}, inplace=True)\n",
        "df_14['Casualty Class'].value_counts()"
      ],
      "id": "6yYUsCye6Cgn",
      "execution_count": 23,
      "outputs": [
        {
          "output_type": "execute_result",
          "data": {
            "text/plain": [
              "Driver        1436\n",
              "Passenger      691\n",
              "Pedestrian     406\n",
              "Name: Casualty Class, dtype: int64"
            ]
          },
          "metadata": {},
          "execution_count": 23
        }
      ]
    },
    {
      "cell_type": "code",
      "metadata": {
        "colab": {
          "base_uri": "https://localhost:8080/"
        },
        "id": "J6ZgzBNh6bwa",
        "outputId": "d84f833a-3b47-438d-ed59-e0dfc624ecb2"
      },
      "source": [
        "df = pd.concat([df_18_19, df_17, df_16, df_15, df_14])\n",
        "df.info()"
      ],
      "id": "J6ZgzBNh6bwa",
      "execution_count": 24,
      "outputs": [
        {
          "output_type": "stream",
          "name": "stdout",
          "text": [
            "<class 'pandas.core.frame.DataFrame'>\nInt64Index: 13849 entries, 0 to 2532\nData columns (total 17 columns):\n #   Column               Non-Null Count  Dtype \n---  ------               --------------  ----- \n 0   Reference Number     13849 non-null  object\n 1   Grid Ref: Easting    13849 non-null  int64 \n 2   Grid Ref: Northing   13849 non-null  int64 \n 3   Number of Vehicles   13849 non-null  int64 \n 4   Accident Date        13849 non-null  object\n 5   Time (24hr)          13849 non-null  int64 \n 6   1st Road Class       13849 non-null  object\n 7   1st Road Class & No  6103 non-null   object\n 8   Road Surface         13848 non-null  object\n 9   Lighting Conditions  13849 non-null  object\n 10  Weather Conditions   13849 non-null  object\n 11  Local Authority      3900 non-null   object\n 12  Type of Vehicle      13848 non-null  object\n 13  Casualty Class       13849 non-null  object\n 14  Casualty Severity    13849 non-null  object\n 15  Sex of Casualty      13849 non-null  object\n 16  Age of Casualty      13849 non-null  int64 \ndtypes: int64(5), object(12)\nmemory usage: 1.9+ MB\n"
          ]
        }
      ]
    },
    {
      "cell_type": "code",
      "metadata": {
        "colab": {
          "base_uri": "https://localhost:8080/"
        },
        "id": "9_jqXUq4C4-e",
        "outputId": "1deb5c46-caa5-4c2a-e25d-6269af7d9a08"
      },
      "source": [
        "missing1 = df['1st Road Class & No'].isna().sum()/df.shape[0]\n",
        "missing2 = df['Local Authority'].isna().sum()/df.shape[0]\n",
        "\n",
        "print(f'1st Road Class & No misses: {missing1}\\nLocal Authority misses: {missing2}')"
      ],
      "id": "9_jqXUq4C4-e",
      "execution_count": 25,
      "outputs": [
        {
          "output_type": "stream",
          "name": "stdout",
          "text": [
            "1st Road Class & No misses: 0.5593183623366308\nLocal Authority misses: 0.7183912195826413\n"
          ]
        }
      ]
    },
    {
      "cell_type": "markdown",
      "metadata": {
        "id": "_GCb-ahADAJo"
      },
      "source": [
        "- 2 cột `1st Road Class & No` và `Local Authority` bị thiếu trên 50% dữ liệu. Do đó, cần phải xóa 2 cột này"
      ],
      "id": "_GCb-ahADAJo"
    },
    {
      "cell_type": "code",
      "metadata": {
        "colab": {
          "base_uri": "https://localhost:8080/"
        },
        "id": "y7atysGADSld",
        "outputId": "05d64976-8266-4410-8890-00c48d6a1081"
      },
      "source": [
        "df.drop(['1st Road Class & No', 'Local Authority'], axis=1, inplace=True)\n",
        "df.info()"
      ],
      "id": "y7atysGADSld",
      "execution_count": 26,
      "outputs": [
        {
          "output_type": "stream",
          "name": "stdout",
          "text": [
            "<class 'pandas.core.frame.DataFrame'>\nInt64Index: 13849 entries, 0 to 2532\nData columns (total 15 columns):\n #   Column               Non-Null Count  Dtype \n---  ------               --------------  ----- \n 0   Reference Number     13849 non-null  object\n 1   Grid Ref: Easting    13849 non-null  int64 \n 2   Grid Ref: Northing   13849 non-null  int64 \n 3   Number of Vehicles   13849 non-null  int64 \n 4   Accident Date        13849 non-null  object\n 5   Time (24hr)          13849 non-null  int64 \n 6   1st Road Class       13849 non-null  object\n 7   Road Surface         13848 non-null  object\n 8   Lighting Conditions  13849 non-null  object\n 9   Weather Conditions   13849 non-null  object\n 10  Type of Vehicle      13848 non-null  object\n 11  Casualty Class       13849 non-null  object\n 12  Casualty Severity    13849 non-null  object\n 13  Sex of Casualty      13849 non-null  object\n 14  Age of Casualty      13849 non-null  int64 \ndtypes: int64(5), object(10)\nmemory usage: 1.7+ MB\n"
          ]
        }
      ]
    },
    {
      "cell_type": "markdown",
      "metadata": {
        "id": "ZNkMQS_c7pMB"
      },
      "source": [
        "- Kiểm tra lại các thuộc tính của `df`"
      ],
      "id": "ZNkMQS_c7pMB"
    },
    {
      "cell_type": "code",
      "metadata": {
        "colab": {
          "base_uri": "https://localhost:8080/"
        },
        "id": "LOjaMCqL7Tif",
        "outputId": "ca771646-ee7a-4faa-fa2a-c628fb8e8e78"
      },
      "source": [
        "for col in list(df.columns):\n",
        "  print(f'column: {col}\\n{df[col].value_counts()}\\n\\n')"
      ],
      "id": "LOjaMCqL7Tif",
      "execution_count": 27,
      "outputs": [
        {
          "output_type": "stream",
          "name": "stdout",
          "text": [
            "column: Reference Number\n69T0667    13\n26J0461    11\n14G1027    10\n58K1318     9\n6360200     9\n           ..\n69O1268     1\n5970615     1\n2AP1028     1\n5CJ1932     1\n54K0961     1\nName: Reference Number, Length: 10548, dtype: int64\n\n\ncolumn: Grid Ref: Easting\n431402    18\n429137    18\n431966    18\n429369    16\n429146    15\n          ..\n427148     1\n429197     1\n431246     1\n433295     1\n430082     1\nName: Grid Ref: Easting, Length: 7214, dtype: int64\n\n\ncolumn: Grid Ref: Northing\n433453    17\n433800    14\n434397    14\n435853    14\n425505    13\n          ..\n432133     1\n434471     1\n428322     1\n430369     1\n431104     1\nName: Grid Ref: Northing, Length: 6877, dtype: int64\n\n\ncolumn: Number of Vehicles\n2     8574\n1     3489\n3     1276\n4      344\n5      122\n6       30\n7        9\n8        3\n10       2\nName: Number of Vehicles, dtype: int64\n\n\ncolumn: Accident Date\n19-Jun-15     22\n11/25/2017    21\n12/1/2017     21\n23-Dec-15     21\n8/11/19       21\n              ..\n2/20/2017      1\n4/10/2017      1\n27/12/2019     1\n01/12/2018     1\n02/06/2018     1\nName: Accident Date, Length: 2151, dtype: int64\n\n\ncolumn: Time (24hr)\n1700    161\n1800    151\n1630    135\n1600    122\n1730    115\n       ... \n419       1\n433       1\n706       1\n515       1\n39        1\nName: Time (24hr), Length: 1231, dtype: int64\n\n\ncolumn: 1st Road Class\nUnclassified    7206\nA               4684\nMotorway         852\nB                613\nA(M)             291\nM                166\nC                 37\nName: 1st Road Class, dtype: int64\n\n\ncolumn: Road Surface\nDry                                    10185\nWet / Damp                              2954\nWet/Damp                                 521\nFrost / Ice                               83\nSnow                                      58\nFrost/Ice                                 30\nFlood (surface water over 3cm deep)       17\nName: Road Surface, dtype: int64\n\n\ncolumn: Lighting Conditions\nDaylight: street lights present                    8546\nDarkness: street lights present and lit            2701\nDaylight: Street lights present                    1181\nDarkness: Street lights present and lit             534\nDarkness: Street lighting unknown                   432\nDarkness: no street lighting                        237\nDarkness: street lighting unknown                   131\nDarkness: No street lighting                         46\nDarkness: street lights present but unlit            31\nDarkness: Street lights present but unlit             9\nDarkness: Street lights present and lit and lit       1\nName: Lighting Conditions, dtype: int64\n\n\ncolumn: Weather Conditions\nFine without high winds              11779\nRaining without high winds            1271\nUnknown                                290\nRaining with high winds                194\nFine with high winds                   152\nOther                                   62\nSnowing without high winds              48\nFog or mist – if hazard                 22\nSnowing with high winds                 21\nFog or mist ñ if hazard                  5\nFog or mist (if hazard)                  3\nDarkness: street lighting unknown        2\nName: Weather Conditions, dtype: int64\n\n\ncolumn: Type of Vehicle\nCar                                                                                           8981\nPedal cycle                                                                                   1841\nBus or coach (17 or more passenger seats)                                                      609\nTaxi/Private hire car                                                                          540\nMotorcycle over 50cc and up to 125cc                                                           418\nGoods vehicle 3.5 tonnes mgw and under                                                         365\nMotorcycle over 500cc                                                                          303\nPedal cyclePedal cycle                                                                         131\nMotorcycle over 125cc and up to 500cc                                                          116\nM/cycle 50cc and under                                                                         104\nMotorcycle Motorcycle over 500cc0cc to 12Motorcycle over 500cccc                                86\nGoods vehicle 7.5 tonnes mgw and over                                                           72\nPedal cycleCar                                                                                  63\nOther Vehicle                                                                                   35\nGoods vehicle over 3.5 tonnes and under 7.5 tonnes mgw                                          27\nMotorcycle 12Motorcycle over 500cccc to Motorcycle over 500cc00cc                               23\nMinibus (8 – 16 passenger seats)                                                                22\nMotorcycle Motorcycle over 500cc0cc and under                                                   22\nMobility Scooter                                                                                21\nCar0                                                                                            11\nMotorcycle Motorcycle over 500cc0cc and under0                                                  11\nMinibus (8 to 16 passenger seats)                                                               10\nMotorcycle Motorcycle over 500cc0cc and underPedal cycle                                         9\nMotorcycle - Unknown CC                                                                          7\nPedal cycle0                                                                                     5\nRidden horse                                                                                     4\nAgricultural vehicle (includes diggers etc.)                                                     4\nTram / Light rail                                                                                3\nCar7                                                                                             3\nMotorcycle Motorcycle over 500cc0cc and underMotorcycle Motorcycle over 500cc0cc and under       1\nCarTaxi/Private hire car                                                                         1\nName: Type of Vehicle, dtype: int64\n\n\ncolumn: Casualty Class\nDriver or rider                 5169\nPedestrian                      2141\nVehicle or pillion passenger    2133\nDriver/Rider                    1597\nDriver                          1436\nPassenger                       1373\nName: Casualty Class, dtype: int64\n\n\ncolumn: Casualty Severity\nSlight     11828\nSerious     1910\nFatal        111\nName: Casualty Severity, dtype: int64\n\n\ncolumn: Sex of Casualty\nMale      8072\nFemale    5777\nName: Sex of Casualty, dtype: int64\n\n\ncolumn: Age of Casualty\n 23    422\n 20    396\n 21    395\n 25    380\n 22    375\n      ... \n 92      4\n 94      3\n-1       3\n 97      2\n 96      1\nName: Age of Casualty, Length: 98, dtype: int64\n\n\n"
          ]
        }
      ]
    },
    {
      "cell_type": "markdown",
      "metadata": {
        "id": "jlKgHNQ2-obA"
      },
      "source": [
        "- Tại các cột `Casualty Class`, `Road Surface`, `Lighting Condition`, `Weather Condition`, `Type of Vehicle` có chứa các giá trị trùng nhau về ý nghĩa nhưng sai về mặt cú pháp\n",
        "- Đổi tên các giá trị này để quá trình thống kê được chính xác hơn"
      ],
      "id": "jlKgHNQ2-obA"
    },
    {
      "cell_type": "code",
      "metadata": {
        "colab": {
          "base_uri": "https://localhost:8080/"
        },
        "id": "vAnyWdlx_J1d",
        "outputId": "de40706a-e890-4361-e78b-785450b4a91f"
      },
      "source": [
        "# cột Casuality Severity\n",
        "df['Casualty Class'].replace({'Driver or rider': 'Driver', 'Vehicle or pillion passenger': 'Passenger', 'Driver/Rider': 'Driver'}, inplace=True)\n",
        "df['Casualty Class'].value_counts()"
      ],
      "id": "vAnyWdlx_J1d",
      "execution_count": 28,
      "outputs": [
        {
          "output_type": "execute_result",
          "data": {
            "text/plain": [
              "Driver        8202\n",
              "Passenger     3506\n",
              "Pedestrian    2141\n",
              "Name: Casualty Class, dtype: int64"
            ]
          },
          "metadata": {},
          "execution_count": 28
        }
      ]
    },
    {
      "cell_type": "code",
      "metadata": {
        "colab": {
          "base_uri": "https://localhost:8080/"
        },
        "id": "I4TWKoJMADUN",
        "outputId": "ecbb7078-d82f-4283-93e2-bd8e57b4a953"
      },
      "source": [
        "# cột Road Surface\n",
        "df['Road Surface'].replace({'Wet / Damp': 'Wet/Damp', 'Frost / Ice': 'Frost/Ice', 'Flood (surface water over 3cm deep)': 'Flood (3cm deep)'}, inplace=True)\n",
        "df['Road Surface'].value_counts()"
      ],
      "id": "I4TWKoJMADUN",
      "execution_count": 29,
      "outputs": [
        {
          "output_type": "execute_result",
          "data": {
            "text/plain": [
              "Dry                 10185\n",
              "Wet/Damp             3475\n",
              "Frost/Ice             113\n",
              "Snow                   58\n",
              "Flood (3cm deep)       17\n",
              "Name: Road Surface, dtype: int64"
            ]
          },
          "metadata": {},
          "execution_count": 29
        }
      ]
    },
    {
      "cell_type": "code",
      "metadata": {
        "colab": {
          "base_uri": "https://localhost:8080/"
        },
        "id": "gVDmoYdsAlno",
        "outputId": "ac97396f-ea98-4beb-8958-f980d01a91c8"
      },
      "source": [
        "# cột Lighting Conditions\n",
        "df['Lighting Conditions'].replace({'Daylight: street lights present': 'Daylight: Street lights present',\n",
        "                                   'Darkness: street lights present and lit': 'Darkness: Street lights present and lit',\n",
        "                                   'Darkness: Street lights present and lit and lit': 'Darkness: Street lights present and lit',\n",
        "                                   'Darkness: street lighting unknown': 'Darkness: Street lighting unknown',\n",
        "                                   'Darkness: no street lighting': 'Darkness: No street lighting',\n",
        "                                   'Darkness: street lights present but unlit': 'Darkness: Street lights present but unlit'}, inplace=True)\n",
        "df['Lighting Conditions'].value_counts()"
      ],
      "id": "gVDmoYdsAlno",
      "execution_count": 30,
      "outputs": [
        {
          "output_type": "execute_result",
          "data": {
            "text/plain": [
              "Daylight: Street lights present              9727\n",
              "Darkness: Street lights present and lit      3236\n",
              "Darkness: Street lighting unknown             563\n",
              "Darkness: No street lighting                  283\n",
              "Darkness: Street lights present but unlit      40\n",
              "Name: Lighting Conditions, dtype: int64"
            ]
          },
          "metadata": {},
          "execution_count": 30
        }
      ]
    },
    {
      "cell_type": "code",
      "metadata": {
        "colab": {
          "base_uri": "https://localhost:8080/"
        },
        "collapsed": true,
        "id": "U3FtFWocDsqd",
        "outputId": "e56bee8a-0d17-451c-9266-a6857e2475ec"
      },
      "source": [
        "# cột Weather Conditions\n",
        "df['Weather Conditions'].replace({'Fog or mist – if hazard': 'Fog or mist (if hazard)',\n",
        "                                  'Fog or mist ñ if hazard': 'Fog or mist (if hazard)'}, inplace=True)\n",
        "\n",
        "df.drop(index=[573,577], inplace=True)\n",
        "df[df['Weather Conditions']=='Darkness: street lighting unknown']\n",
        "\n",
        "df['Weather Conditions'].value_counts()"
      ],
      "id": "U3FtFWocDsqd",
      "execution_count": 31,
      "outputs": [
        {
          "output_type": "execute_result",
          "data": {
            "text/plain": [
              "Fine without high winds       11772\n",
              "Raining without high winds     1270\n",
              "Unknown                         290\n",
              "Raining with high winds         194\n",
              "Fine with high winds            152\n",
              "Other                            62\n",
              "Snowing without high winds       48\n",
              "Fog or mist (if hazard)          30\n",
              "Snowing with high winds          21\n",
              "Name: Weather Conditions, dtype: int64"
            ]
          },
          "metadata": {},
          "execution_count": 31
        }
      ]
    },
    {
      "cell_type": "code",
      "metadata": {
        "colab": {
          "base_uri": "https://localhost:8080/"
        },
        "id": "UjGFGAXZFAwd",
        "outputId": "aced74b7-4f23-4acf-c15a-0684a284026d"
      },
      "source": [
        "# Cột Type of Vehicle\n",
        "df['Type of Vehicle'].replace({'Car0': 'Car', 'Car7': 'Car',\n",
        "                               'Pedal cyclePedal cycle': 'Pedal cycle', 'Pedal cycleCar': 'Pedal cycle', 'Pedal cycle0': 'Pedal cycle',\n",
        "                               'CarTaxi/Private hire car': 'Taxi/Private hire car',\n",
        "                               'M/cycle 50cc and under': 'Motorcycle over 50cc and up to 125cc',\n",
        "                               'Motorcycle Motorcycle over 500cc0cc to 12Motorcycle over 500cccc': 'Motorcycle over 500cc',\n",
        "                               'Motorcycle 12Motorcycle over 500cccc to Motorcycle over 500cc00cc': 'Motorcycle over 500cc',\n",
        "                               'Motorcycle Motorcycle over 500cc0cc and under': 'Motorcycle over 500cc',\n",
        "                               'Motorcycle Motorcycle over 500cc0cc and under0': 'Motorcycle over 500cc',\n",
        "                               'Motorcycle Motorcycle over 500cc0cc and underMotorcycle Motorcycle over 500cc0cc and under': 'Motorcycle over 500cc',\n",
        "                               'Motorcycle Motorcycle over 500cc0cc and underPedal cycle': 'Motorcycle over 500cc',\n",
        "                               'Minibus (8 to 16 passenger seats)': 'Minibus (8 – 16 passenger seats)'}, inplace=True)\n",
        "df['Type of Vehicle'].value_counts()"
      ],
      "id": "UjGFGAXZFAwd",
      "execution_count": 32,
      "outputs": [
        {
          "output_type": "execute_result",
          "data": {
            "text/plain": [
              "Car                                                       8987\n",
              "Pedal cycle                                               2038\n",
              "Bus or coach (17 or more passenger seats)                  609\n",
              "Taxi/Private hire car                                      541\n",
              "Motorcycle over 50cc and up to 125cc                       522\n",
              "Motorcycle over 500cc                                      455\n",
              "Goods vehicle 3.5 tonnes mgw and under                     365\n",
              "Motorcycle over 125cc and up to 500cc                      116\n",
              "Goods vehicle 7.5 tonnes mgw and over                       72\n",
              "Other Vehicle                                               35\n",
              "Minibus (8 – 16 passenger seats)                            32\n",
              "Goods vehicle over 3.5 tonnes and under 7.5 tonnes mgw      27\n",
              "Mobility Scooter                                            21\n",
              "Motorcycle - Unknown CC                                      7\n",
              "Agricultural vehicle (includes diggers etc.)                 4\n",
              "Ridden horse                                                 4\n",
              "Tram / Light rail                                            3\n",
              "Name: Type of Vehicle, dtype: int64"
            ]
          },
          "metadata": {},
          "execution_count": 32
        }
      ]
    },
    {
      "cell_type": "code",
      "metadata": {
        "id": "631tkM9xNA0c"
      },
      "source": [
        "df.to_csv('../../Data/df_merged.csv', index=False)\n",
        "# df.to_csv('df_merged.csv', index=False)"
      ],
      "id": "631tkM9xNA0c",
      "execution_count": 35,
      "outputs": []
    }
  ]
}