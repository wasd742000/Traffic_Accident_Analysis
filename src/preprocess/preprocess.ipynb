{
  "nbformat": 4,
  "nbformat_minor": 0,
  "metadata": {
    "colab": {
      "name": "preprocess.ipynb",
      "provenance": []
    },
    "kernelspec": {
      "name": "python383jvsc74a57bd0e134e05457d34029b6460cd73bbf1ed73f339b5b6d98c95be70b69eba114fe95",
      "display_name": "Python 3.8.3 64-bit ('base': conda)"
    },
    "language_info": {
      "name": "python",
      "version": "3.8.3"
    }
  },
  "cells": [
    {
      "cell_type": "markdown",
      "metadata": {
        "id": "8e5s758gaiXH"
      },
      "source": [
        "# Tiền xử lý các cột trong tập dữ liệu\n",
        "**Note:** Dữ liệu được sử dụng tại đây là file `./Data/df_merged.csv`. File này được merge từ casc file dữ liệu từng năm. Chi tiết xem tại `./preprocess/merge_data.ipynb`"
      ]
    },
    {
      "cell_type": "code",
      "metadata": {
        "id": "RCBiM0szbAuZ"
      },
      "source": [
        "import pandas as pd\n",
        "import numpy as np "
      ],
      "execution_count": 1,
      "outputs": []
    },
    {
      "cell_type": "code",
      "metadata": {
        "colab": {
          "base_uri": "https://localhost:8080/"
        },
        "id": "A-GJGMLibHGQ",
        "outputId": "e1e9dfd5-c5f1-4c63-8162-0325aa1047d4"
      },
      "source": [
        "df = pd.read_csv('../../Data/df_merged.csv')\n",
        "for col in list(df.columns):\n",
        "    print(col, df[col].isna().sum())"
      ],
      "execution_count": 2,
      "outputs": [
        {
          "output_type": "stream",
          "name": "stdout",
          "text": [
            "Reference Number 0\nGrid Ref: Easting 0\nGrid Ref: Northing 0\nNumber of Vehicles 0\nAccident Date 0\nTime (24hr) 0\n1st Road Class 0\nRoad Surface 1\nLighting Conditions 0\nWeather Conditions 0\nType of Vehicle 1\nCasualty Class 0\nCasualty Severity 0\nSex of Casualty 0\nAge of Casualty 0\n"
          ]
        }
      ]
    },
    {
      "cell_type": "markdown",
      "metadata": {
        "id": "NyjBDihda8Gx"
      },
      "source": [
        "- Tại cột `Road Surface` và cột `Type of Vehicle` có 1 giá trị null, điền giá trị mode của cột vào ô này"
      ]
    },
    {
      "cell_type": "code",
      "metadata": {
        "id": "T9QjVvHDbFLy"
      },
      "source": [
        "df['Road Surface'].fillna(df['Road Surface'].mode()[0], inplace=True)\n",
        "df['Type of Vehicle'].fillna(df['Type of Vehicle'].mode()[0], inplace=True)"
      ],
      "execution_count": 3,
      "outputs": []
    },
    {
      "cell_type": "code",
      "metadata": {
        "colab": {
          "base_uri": "https://localhost:8080/"
        },
        "id": "zIR1RC4znCna",
        "outputId": "04d5e372-855b-4c07-deca-36fbcaab7519"
      },
      "source": [
        "df.info()"
      ],
      "execution_count": 4,
      "outputs": [
        {
          "output_type": "stream",
          "name": "stdout",
          "text": [
            "<class 'pandas.core.frame.DataFrame'>\nRangeIndex: 13839 entries, 0 to 13838\nData columns (total 15 columns):\n #   Column               Non-Null Count  Dtype \n---  ------               --------------  ----- \n 0   Reference Number     13839 non-null  object\n 1   Grid Ref: Easting    13839 non-null  int64 \n 2   Grid Ref: Northing   13839 non-null  int64 \n 3   Number of Vehicles   13839 non-null  int64 \n 4   Accident Date        13839 non-null  object\n 5   Time (24hr)          13839 non-null  int64 \n 6   1st Road Class       13839 non-null  object\n 7   Road Surface         13839 non-null  object\n 8   Lighting Conditions  13839 non-null  object\n 9   Weather Conditions   13839 non-null  object\n 10  Type of Vehicle      13839 non-null  object\n 11  Casualty Class       13839 non-null  object\n 12  Casualty Severity    13839 non-null  object\n 13  Sex of Casualty      13839 non-null  object\n 14  Age of Casualty      13839 non-null  int64 \ndtypes: int64(5), object(10)\nmemory usage: 1.6+ MB\n"
          ]
        }
      ]
    },
    {
      "cell_type": "markdown",
      "metadata": {
        "id": "8MThC8p9jquV"
      },
      "source": [
        "## Tiền xử lý cột `Accident Date`\n",
        "- `Accident Date` đang ở dạng `object` nên được ép kiểu về `Datetime` và sắp xếp tăng dần từ năm 2014 đến năm 2019"
      ]
    },
    {
      "cell_type": "code",
      "metadata": {
        "colab": {
          "base_uri": "https://localhost:8080/",
          "height": 462
        },
        "collapsed": true,
        "id": "H_dcZGVWcgFj",
        "outputId": "46ebb7c2-51e8-40c1-9192-e01e843a1f83"
      },
      "source": [
        "df['Accident Date'] = pd.to_datetime(df['Accident Date'])\n",
        "df.sort_values(by=['Accident Date'], ascending=True, inplace=True)\n",
        "df.head()"
      ],
      "execution_count": 5,
      "outputs": [
        {
          "output_type": "execute_result",
          "data": {
            "text/plain": [
              "      Reference Number  Grid Ref: Easting  Grid Ref: Northing  \\\n",
              "11662        140000717             429427              433921   \n",
              "11700        140012302             430481              433453   \n",
              "11659        140000292             428515              437286   \n",
              "11660        140000304             429117              439812   \n",
              "11661        140000717             429427              433921   \n",
              "\n",
              "       Number of Vehicles Accident Date  Time (24hr) 1st Road Class  \\\n",
              "11662                   2    2014-01-01         1415           A(M)   \n",
              "11700                   1    2014-01-01            5   Unclassified   \n",
              "11659                   3    2014-01-01          220   Unclassified   \n",
              "11660                   1    2014-01-01          130   Unclassified   \n",
              "11661                   2    2014-01-01         1415           A(M)   \n",
              "\n",
              "      Road Surface                      Lighting Conditions  \\\n",
              "11662          Dry          Daylight: Street lights present   \n",
              "11700          Dry  Darkness: Street lights present and lit   \n",
              "11659          Dry          Daylight: Street lights present   \n",
              "11660     Wet/Damp  Darkness: Street lights present and lit   \n",
              "11661          Dry          Daylight: Street lights present   \n",
              "\n",
              "            Weather Conditions        Type of Vehicle Casualty Class  \\\n",
              "11662  Fine without high winds                    Car      Passenger   \n",
              "11700  Fine without high winds  Taxi/Private hire car      Passenger   \n",
              "11659  Fine without high winds                    Car         Driver   \n",
              "11660  Fine without high winds                    Car     Pedestrian   \n",
              "11661  Fine without high winds                    Car         Driver   \n",
              "\n",
              "      Casualty Severity Sex of Casualty  Age of Casualty  \n",
              "11662            Slight            Male               28  \n",
              "11700            Slight            Male               29  \n",
              "11659            Slight          Female               21  \n",
              "11660           Serious          Female               34  \n",
              "11661            Slight            Male               34  "
            ],
            "text/html": "<div>\n<style scoped>\n    .dataframe tbody tr th:only-of-type {\n        vertical-align: middle;\n    }\n\n    .dataframe tbody tr th {\n        vertical-align: top;\n    }\n\n    .dataframe thead th {\n        text-align: right;\n    }\n</style>\n<table border=\"1\" class=\"dataframe\">\n  <thead>\n    <tr style=\"text-align: right;\">\n      <th></th>\n      <th>Reference Number</th>\n      <th>Grid Ref: Easting</th>\n      <th>Grid Ref: Northing</th>\n      <th>Number of Vehicles</th>\n      <th>Accident Date</th>\n      <th>Time (24hr)</th>\n      <th>1st Road Class</th>\n      <th>Road Surface</th>\n      <th>Lighting Conditions</th>\n      <th>Weather Conditions</th>\n      <th>Type of Vehicle</th>\n      <th>Casualty Class</th>\n      <th>Casualty Severity</th>\n      <th>Sex of Casualty</th>\n      <th>Age of Casualty</th>\n    </tr>\n  </thead>\n  <tbody>\n    <tr>\n      <th>11662</th>\n      <td>140000717</td>\n      <td>429427</td>\n      <td>433921</td>\n      <td>2</td>\n      <td>2014-01-01</td>\n      <td>1415</td>\n      <td>A(M)</td>\n      <td>Dry</td>\n      <td>Daylight: Street lights present</td>\n      <td>Fine without high winds</td>\n      <td>Car</td>\n      <td>Passenger</td>\n      <td>Slight</td>\n      <td>Male</td>\n      <td>28</td>\n    </tr>\n    <tr>\n      <th>11700</th>\n      <td>140012302</td>\n      <td>430481</td>\n      <td>433453</td>\n      <td>1</td>\n      <td>2014-01-01</td>\n      <td>5</td>\n      <td>Unclassified</td>\n      <td>Dry</td>\n      <td>Darkness: Street lights present and lit</td>\n      <td>Fine without high winds</td>\n      <td>Taxi/Private hire car</td>\n      <td>Passenger</td>\n      <td>Slight</td>\n      <td>Male</td>\n      <td>29</td>\n    </tr>\n    <tr>\n      <th>11659</th>\n      <td>140000292</td>\n      <td>428515</td>\n      <td>437286</td>\n      <td>3</td>\n      <td>2014-01-01</td>\n      <td>220</td>\n      <td>Unclassified</td>\n      <td>Dry</td>\n      <td>Daylight: Street lights present</td>\n      <td>Fine without high winds</td>\n      <td>Car</td>\n      <td>Driver</td>\n      <td>Slight</td>\n      <td>Female</td>\n      <td>21</td>\n    </tr>\n    <tr>\n      <th>11660</th>\n      <td>140000304</td>\n      <td>429117</td>\n      <td>439812</td>\n      <td>1</td>\n      <td>2014-01-01</td>\n      <td>130</td>\n      <td>Unclassified</td>\n      <td>Wet/Damp</td>\n      <td>Darkness: Street lights present and lit</td>\n      <td>Fine without high winds</td>\n      <td>Car</td>\n      <td>Pedestrian</td>\n      <td>Serious</td>\n      <td>Female</td>\n      <td>34</td>\n    </tr>\n    <tr>\n      <th>11661</th>\n      <td>140000717</td>\n      <td>429427</td>\n      <td>433921</td>\n      <td>2</td>\n      <td>2014-01-01</td>\n      <td>1415</td>\n      <td>A(M)</td>\n      <td>Dry</td>\n      <td>Daylight: Street lights present</td>\n      <td>Fine without high winds</td>\n      <td>Car</td>\n      <td>Driver</td>\n      <td>Slight</td>\n      <td>Male</td>\n      <td>34</td>\n    </tr>\n  </tbody>\n</table>\n</div>"
          },
          "metadata": {},
          "execution_count": 5
        }
      ]
    },
    {
      "cell_type": "markdown",
      "metadata": {
        "id": "ktKLKbvZjMnE"
      },
      "source": [
        "## Tiền xử lý cột `Time (24hr)`\n",
        "- `Time (24hr)` đang ở dạng `object` nên được ép kiểu về `Datetime`"
      ]
    },
    {
      "cell_type": "code",
      "metadata": {
        "colab": {
          "base_uri": "https://localhost:8080/",
          "height": 632
        },
        "id": "JlYgVCOtdU6U",
        "outputId": "925b1dc9-31d6-49a0-e71a-12fb4052abf8"
      },
      "source": [
        "for i in range(len(df['Time (24hr)'])):\n",
        "  df['Time (24hr)'][i] = str(df['Time (24hr)'][i]//100) + ':' + str(df['Time (24hr)'][i]%100)\n",
        "\n",
        "df['Time (24hr)'] = pd.to_datetime(df['Time (24hr)'], format='%H:%M').dt.time\n",
        "df.head()"
      ],
      "execution_count": 6,
      "outputs": [
        {
          "output_type": "stream",
          "name": "stderr",
          "text": [
            "<ipython-input-6-a05df258ba75>:2: SettingWithCopyWarning: \nA value is trying to be set on a copy of a slice from a DataFrame\n\nSee the caveats in the documentation: https://pandas.pydata.org/pandas-docs/stable/user_guide/indexing.html#returning-a-view-versus-a-copy\n  df['Time (24hr)'][i] = str(df['Time (24hr)'][i]//100) + ':' + str(df['Time (24hr)'][i]%100)\n/usr/local/anaconda3/lib/python3.8/site-packages/pandas/core/indexing.py:671: SettingWithCopyWarning: \nA value is trying to be set on a copy of a slice from a DataFrame\n\nSee the caveats in the documentation: https://pandas.pydata.org/pandas-docs/stable/user_guide/indexing.html#returning-a-view-versus-a-copy\n  self._setitem_with_indexer(indexer, value)\n"
          ]
        },
        {
          "output_type": "execute_result",
          "data": {
            "text/plain": [
              "      Reference Number  Grid Ref: Easting  Grid Ref: Northing  \\\n",
              "11662        140000717             429427              433921   \n",
              "11700        140012302             430481              433453   \n",
              "11659        140000292             428515              437286   \n",
              "11660        140000304             429117              439812   \n",
              "11661        140000717             429427              433921   \n",
              "\n",
              "       Number of Vehicles Accident Date Time (24hr) 1st Road Class  \\\n",
              "11662                   2    2014-01-01    14:15:00           A(M)   \n",
              "11700                   1    2014-01-01    00:05:00   Unclassified   \n",
              "11659                   3    2014-01-01    02:20:00   Unclassified   \n",
              "11660                   1    2014-01-01    01:30:00   Unclassified   \n",
              "11661                   2    2014-01-01    14:15:00           A(M)   \n",
              "\n",
              "      Road Surface                      Lighting Conditions  \\\n",
              "11662          Dry          Daylight: Street lights present   \n",
              "11700          Dry  Darkness: Street lights present and lit   \n",
              "11659          Dry          Daylight: Street lights present   \n",
              "11660     Wet/Damp  Darkness: Street lights present and lit   \n",
              "11661          Dry          Daylight: Street lights present   \n",
              "\n",
              "            Weather Conditions        Type of Vehicle Casualty Class  \\\n",
              "11662  Fine without high winds                    Car      Passenger   \n",
              "11700  Fine without high winds  Taxi/Private hire car      Passenger   \n",
              "11659  Fine without high winds                    Car         Driver   \n",
              "11660  Fine without high winds                    Car     Pedestrian   \n",
              "11661  Fine without high winds                    Car         Driver   \n",
              "\n",
              "      Casualty Severity Sex of Casualty  Age of Casualty  \n",
              "11662            Slight            Male               28  \n",
              "11700            Slight            Male               29  \n",
              "11659            Slight          Female               21  \n",
              "11660           Serious          Female               34  \n",
              "11661            Slight            Male               34  "
            ],
            "text/html": "<div>\n<style scoped>\n    .dataframe tbody tr th:only-of-type {\n        vertical-align: middle;\n    }\n\n    .dataframe tbody tr th {\n        vertical-align: top;\n    }\n\n    .dataframe thead th {\n        text-align: right;\n    }\n</style>\n<table border=\"1\" class=\"dataframe\">\n  <thead>\n    <tr style=\"text-align: right;\">\n      <th></th>\n      <th>Reference Number</th>\n      <th>Grid Ref: Easting</th>\n      <th>Grid Ref: Northing</th>\n      <th>Number of Vehicles</th>\n      <th>Accident Date</th>\n      <th>Time (24hr)</th>\n      <th>1st Road Class</th>\n      <th>Road Surface</th>\n      <th>Lighting Conditions</th>\n      <th>Weather Conditions</th>\n      <th>Type of Vehicle</th>\n      <th>Casualty Class</th>\n      <th>Casualty Severity</th>\n      <th>Sex of Casualty</th>\n      <th>Age of Casualty</th>\n    </tr>\n  </thead>\n  <tbody>\n    <tr>\n      <th>11662</th>\n      <td>140000717</td>\n      <td>429427</td>\n      <td>433921</td>\n      <td>2</td>\n      <td>2014-01-01</td>\n      <td>14:15:00</td>\n      <td>A(M)</td>\n      <td>Dry</td>\n      <td>Daylight: Street lights present</td>\n      <td>Fine without high winds</td>\n      <td>Car</td>\n      <td>Passenger</td>\n      <td>Slight</td>\n      <td>Male</td>\n      <td>28</td>\n    </tr>\n    <tr>\n      <th>11700</th>\n      <td>140012302</td>\n      <td>430481</td>\n      <td>433453</td>\n      <td>1</td>\n      <td>2014-01-01</td>\n      <td>00:05:00</td>\n      <td>Unclassified</td>\n      <td>Dry</td>\n      <td>Darkness: Street lights present and lit</td>\n      <td>Fine without high winds</td>\n      <td>Taxi/Private hire car</td>\n      <td>Passenger</td>\n      <td>Slight</td>\n      <td>Male</td>\n      <td>29</td>\n    </tr>\n    <tr>\n      <th>11659</th>\n      <td>140000292</td>\n      <td>428515</td>\n      <td>437286</td>\n      <td>3</td>\n      <td>2014-01-01</td>\n      <td>02:20:00</td>\n      <td>Unclassified</td>\n      <td>Dry</td>\n      <td>Daylight: Street lights present</td>\n      <td>Fine without high winds</td>\n      <td>Car</td>\n      <td>Driver</td>\n      <td>Slight</td>\n      <td>Female</td>\n      <td>21</td>\n    </tr>\n    <tr>\n      <th>11660</th>\n      <td>140000304</td>\n      <td>429117</td>\n      <td>439812</td>\n      <td>1</td>\n      <td>2014-01-01</td>\n      <td>01:30:00</td>\n      <td>Unclassified</td>\n      <td>Wet/Damp</td>\n      <td>Darkness: Street lights present and lit</td>\n      <td>Fine without high winds</td>\n      <td>Car</td>\n      <td>Pedestrian</td>\n      <td>Serious</td>\n      <td>Female</td>\n      <td>34</td>\n    </tr>\n    <tr>\n      <th>11661</th>\n      <td>140000717</td>\n      <td>429427</td>\n      <td>433921</td>\n      <td>2</td>\n      <td>2014-01-01</td>\n      <td>14:15:00</td>\n      <td>A(M)</td>\n      <td>Dry</td>\n      <td>Daylight: Street lights present</td>\n      <td>Fine without high winds</td>\n      <td>Car</td>\n      <td>Driver</td>\n      <td>Slight</td>\n      <td>Male</td>\n      <td>34</td>\n    </tr>\n  </tbody>\n</table>\n</div>"
          },
          "metadata": {},
          "execution_count": 6
        }
      ]
    },
    {
      "source": [
        "## Tiền xử lý cột `Reference Number`\n",
        "\n",
        "- Xóa cột `Reference Number` vì cột này chứa các giá trị gần như giá trị index"
      ],
      "cell_type": "markdown",
      "metadata": {}
    },
    {
      "cell_type": "code",
      "execution_count": 7,
      "metadata": {},
      "outputs": [],
      "source": [
        "df.drop(['Reference Number'], axis=1, inplace=True)"
      ]
    },
    {
      "source": [
        "## Tiền xử lý cột `Number of Vehicle`\n",
        "\n",
        "- Chuyển dữ liệu cột này thành dạng định danh"
      ],
      "cell_type": "markdown",
      "metadata": {}
    },
    {
      "cell_type": "code",
      "execution_count": 8,
      "metadata": {},
      "outputs": [
        {
          "output_type": "stream",
          "name": "stdout",
          "text": [
            "before\n2     8566\n1     3487\n3     1276\n4      344\n5      122\n6       30\n7        9\n8        3\n10       2\nName: Number of Vehicles, dtype: int64\n\nafter\n2     8566\n1     3487\n3     1276\n≥4     510\nName: Number of Vehicles, dtype: int64\n"
          ]
        }
      ],
      "source": [
        "# chuyển đổi cột Number of Vehicle thành định danh\n",
        "print(f\"before\\n{df['Number of Vehicles'].value_counts()}\")\n",
        "print()\n",
        "\n",
        "def numOfVehicleToCategory(x):\n",
        "    if x == 1:\n",
        "        return '1'\n",
        "    if x == 2:\n",
        "        return '2'\n",
        "    if x == 3:\n",
        "        return '3'\n",
        "    else:\n",
        "        return '≥4'\n",
        "\n",
        "df['Number of Vehicles'] = df['Number of Vehicles'].apply(numOfVehicleToCategory)\n",
        "print(f\"after\\n{df['Number of Vehicles'].value_counts()}\")"
      ]
    },
    {
      "source": [
        "## Tiền xử lý cột `Type of Vehicle`\n",
        "\n",
        "- Format lại dữ liệu trong cột để thuận lợi cho thống kê"
      ],
      "cell_type": "markdown",
      "metadata": {}
    },
    {
      "cell_type": "code",
      "execution_count": 9,
      "metadata": {},
      "outputs": [
        {
          "output_type": "stream",
          "name": "stdout",
          "text": [
            "before\nCar                                                       8988\nPedal cycle                                               2038\nBus or coach (17 or more passenger seats)                  609\nTaxi/Private hire car                                      541\nMotorcycle over 50cc and up to 125cc                       522\nMotorcycle over 500cc                                      455\nGoods vehicle 3.5 tonnes mgw and under                     365\nMotorcycle over 125cc and up to 500cc                      116\nGoods vehicle 7.5 tonnes mgw and over                       72\nOther Vehicle                                               35\nMinibus (8 – 16 passenger seats)                            32\nGoods vehicle over 3.5 tonnes and under 7.5 tonnes mgw      27\nMobility Scooter                                            21\nMotorcycle - Unknown CC                                      7\nAgricultural vehicle (includes diggers etc.)                 4\nRidden horse                                                 4\nTram / Light rail                                            3\nName: Type of Vehicle, dtype: int64\n\nafter\nCar              9529\nPedal cycle      2038\nMotorcycle       1100\nBus               641\nGoods vehicle     464\nOther              67\nName: Type of Vehicle, dtype: int64\n"
          ]
        }
      ],
      "source": [
        "# tiền xử lý cột Type of Vehicle\n",
        "print(f\"before\\n{df['Type of Vehicle'].value_counts()}\")\n",
        "print()\n",
        "\n",
        "def formatVehicle(x):\n",
        "    if x in {'Taxi/Private hire car', 'Car'}:\n",
        "        return 'Car'\n",
        "    if x == 'Pedal cycle':\n",
        "        return 'Pedal cycle'\n",
        "    if x in {'Bus or coach (17 or more passenger seats)', 'Minibus (8 – 16 passenger seats)'}:\n",
        "        return 'Bus'\n",
        "    if x in {'Motorcycle over 50cc and up to 125cc', 'Motorcycle over 500cc', 'Motorcycle over 125cc and up to 500cc', 'Motorcycle - Unknown CC'}:\n",
        "        return 'Motorcycle'\n",
        "    if x in {'Goods vehicle 3.5 tonnes mgw and under', 'Goods vehicle 7.5 tonnes mgw and over', 'Goods vehicle over 3.5 tonnes and under 7.5 tonnes mgw'}:\n",
        "        return 'Goods vehicle'\n",
        "    else:\n",
        "        return 'Other'\n",
        "\n",
        "df['Type of Vehicle'] = df['Type of Vehicle'].apply(formatVehicle)\n",
        "print(f\"after\\n{df['Type of Vehicle'].value_counts()}\")"
      ]
    },
    {
      "cell_type": "code",
      "metadata": {
        "id": "pP7PvuRrBMiT"
      },
      "source": [
        "df.to_csv('../../Data/afterPreprocess.csv', index=False)"
      ],
      "execution_count": 11,
      "outputs": []
    }
  ]
}